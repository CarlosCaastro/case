{
 "cells": [
  {
   "cell_type": "code",
   "execution_count": null,
   "metadata": {
    "application/vnd.databricks.v1+cell": {
     "cellMetadata": {
      "byteLimit": 2048000,
      "rowLimit": 10000
     },
     "collapsed": true,
     "inputWidgets": {},
     "nuid": "316f777c-014e-4214-850f-7a9776477f8a",
     "showTitle": false,
     "title": ""
    }
   },
   "outputs": [],
   "source": [
    "import requests\n",
    "from pyspark.sql import SparkSession\n",
    "from pyspark.sql.types import StructType, StringType, StructField, IntegerType\n",
    "from pyspark.sql.functions import udf\n",
    "\n",
    "\n",
    "def get_github_user_info(login, token):\n",
    "    url = f\"https://api.github.com/users/{login}\"\n",
    "    headers = {\"Authorization\": f\"token {token}\"}\n",
    "    response = requests.get(url, headers=headers)\n",
    "    if response.status_code == 200:\n",
    "        user_info = response.json()\n",
    "        return (\n",
    "            user_info.get('name'),\n",
    "            user_info.get('company'),\n",
    "            user_info.get('blog'),\n",
    "            user_info.get('email'),\n",
    "            user_info.get('bio'),\n",
    "            user_info.get('public_repos'),\n",
    "            user_info.get('followers'),\n",
    "            user_info.get('following'),\n",
    "            user_info.get('created_at')\n",
    "        )\n",
    "    else:\n",
    "        return (None, None, None, None, None, None, None, None, None)\n",
    "\n",
    "class DataExtractorIfood:\n",
    "    def __init__(self, spark: SparkSession, user: str, token: str):\n",
    "        self.spark = spark\n",
    "        self.user = user\n",
    "        self.token = token\n",
    "\n",
    "    def get_followers(self):\n",
    "        followers = []\n",
    "        page = 1\n",
    "        while True:\n",
    "            end_point_followers = f'https://api.github.com/users/{self.user}/followers?page={page}'\n",
    "            response_followers = requests.get(end_point_followers, headers={\"Authorization\": f\"token {self.token}\"}).json()\n",
    "            if not response_followers:\n",
    "                break\n",
    "            followers.extend(response_followers)\n",
    "            page += 1\n",
    "        users = [{'login': follower['login']} for follower in followers]\n",
    "        followers_df = self.spark.createDataFrame(users)\n",
    "        return followers_df\n",
    "        \n",
    "    def enrich_with_github_info(self, df):\n",
    "        schema = StructType([\n",
    "            StructField(\"name\", StringType(), True),\n",
    "            StructField(\"company\", StringType(), True),\n",
    "            StructField(\"blog\", StringType(), True),\n",
    "            StructField(\"email\", StringType(), True),\n",
    "            StructField(\"bio\", StringType(), True),\n",
    "            StructField(\"public_repos\", IntegerType(), True),\n",
    "            StructField(\"followers\", IntegerType(), True),\n",
    "            StructField(\"following\", IntegerType(), True),\n",
    "            StructField(\"created_at\", StringType(), True)\n",
    "        ])\n",
    "\n",
    "        token = self.token\n",
    "\n",
    "        @udf(returnType=schema)\n",
    "        def get_github_user_info_udf(login):\n",
    "            return get_github_user_info(login, token)\n",
    "\n",
    "        enriched_df = df.withColumn(\"github_info\", get_github_user_info_udf(df[\"login\"]))\n",
    "\n",
    "        enriched_df = enriched_df.select(\n",
    "            \"github_info.name\",\n",
    "            \"github_info.company\",\n",
    "            \"github_info.blog\",\n",
    "            \"github_info.email\",\n",
    "            \"github_info.bio\",\n",
    "            \"github_info.public_repos\",\n",
    "            \"github_info.followers\",\n",
    "            \"github_info.following\",\n",
    "            \"github_info.created_at\"\n",
    "        )\n",
    "\n",
    "        return enriched_df\n",
    "\n",
    "    def execute_extract_api(self):\n",
    "        df = self.get_followers()\n",
    "        df_extract = self.enrich_with_github_info(df=df)\n",
    "        return df_extract\n",
    "\n",
    "    def extract_csv(self, path):\n",
    "        return self.spark.read.format(\"csv\").options(header = True, multiLine=True).load(path)\n",
    "\n",
    "    def get_count_followers(self):\n",
    "        url = f\"https://api.github.com/users/{self.user}\"\n",
    "        response = requests.get(url, headers={\"Authorization\": f\"token {self.token}\"})\n",
    "        data = response.json()\n",
    "        followers_count = data.get('followers')\n",
    "        return followers_count\n"
   ]
  },
  {
   "cell_type": "code",
   "execution_count": null,
   "metadata": {
    "application/vnd.databricks.v1+cell": {
     "cellMetadata": {
      "byteLimit": 2048000,
      "rowLimit": 10000
     },
     "collapsed": true,
     "inputWidgets": {},
     "nuid": "f247347d-98a8-4979-a332-700d1f050a4c",
     "showTitle": false,
     "title": ""
    }
   },
   "outputs": [],
   "source": [
    "from pyspark.sql import DataFrame\n",
    "from pyspark.sql.functions import regexp_replace, to_date, date_format\n",
    "\n",
    "class DataLoaderIfood:\n",
    "    def __init__(self, path: str):\n",
    "        self.path = path\n",
    "\n",
    "    def save_to_csv(self, df: DataFrame):\n",
    "        df.coalesce(1).write.csv(self.path, header=True, mode=\"overwrite\")\n"
   ]
  },
  {
   "cell_type": "code",
   "execution_count": null,
   "metadata": {
    "application/vnd.databricks.v1+cell": {
     "cellMetadata": {
      "byteLimit": 2048000,
      "rowLimit": 10000
     },
     "collapsed": true,
     "inputWidgets": {},
     "nuid": "91b7a698-b4ec-4950-93b5-00cd147950cd",
     "showTitle": false,
     "title": ""
    }
   },
   "outputs": [],
   "source": [
    "from pyspark.sql import DataFrame\n",
    "from pyspark.sql.functions import regexp_replace, to_date, date_format\n",
    "\n",
    "class DataTransformerIfood:\n",
    "    @staticmethod\n",
    "    def transform(df: DataFrame) -> DataFrame:\n",
    "        df_transformed = df.withColumn(\"company\", regexp_replace(\"company\", \"@\", \"\")) \\\n",
    "                           .withColumn(\"created_at\", date_format(to_date(\"created_at\", \"yyyy-MM-dd'T'HH:mm:ss'Z'\"), \"dd/MM/yyyy\"))\n",
    "        return df_transformed\n"
   ]
  },
  {
   "cell_type": "code",
   "execution_count": null,
   "metadata": {
    "application/vnd.databricks.v1+cell": {
     "cellMetadata": {
      "byteLimit": 2048000,
      "rowLimit": 10000
     },
     "collapsed": true,
     "inputWidgets": {},
     "nuid": "1c7a9455-5a87-422f-9778-2d07ee6f6582",
     "showTitle": false,
     "title": ""
    }
   },
   "outputs": [],
   "source": [
    "from pyspark.sql import SparkSession\n",
    "from pyspark.sql.functions import  col, regexp_extract\n",
    "\n",
    "class DataTestIfood:\n",
    "\n",
    "    def __init__(self, spark: SparkSession,path,user, token):\n",
    "        self.spark = spark\n",
    "        self.path = path\n",
    "        self.user = user\n",
    "        self.token = token\n",
    "        self.headers = {\"Authorization\": f\"token {token}\"}\n",
    "\n",
    "    def read_data(self):\n",
    "        df_test = DataExtractorIfood(spark=self.spark,user=self.user,token=self.token).extract_csv(path=self.path)\n",
    "        \n",
    "        return df_test\n",
    "\n",
    "    def clean_company(self,df):\n",
    "        \n",
    "        if df.filter(col(\"company\").like(\"%@%\")).count() > 0:\n",
    "            print(\"Existe pelo menos um '@' na coluna 'company'.\")\n",
    "        else:\n",
    "            print(\"Não existe '@' na coluna 'company'.\")\n",
    "        \n",
    "    def date_format(self,df):\n",
    "\n",
    "        pattern = r'^\\d{2}/\\d{2}/\\d{4}$'\n",
    "\n",
    "        if df.filter(regexp_extract(col(\"created_at\"), pattern, 0) != \"\").count() == df.count():\n",
    "            print(\"A coluna 'created_at' está com as datas no formato dd/mm/yyyy.\")\n",
    "        else:\n",
    "            print(\"A coluna 'created_at' não está com todas as datas no formato dd/mm/yyyy.\")\n",
    "    \n",
    "    def count_followers(self,df):\n",
    "\n",
    "        followers_count = DataExtractorIfood(spark=self.spark,user=self.user,token=self.token).get_count_followers()\n",
    "\n",
    "        if df.count() == followers_count:\n",
    "            return print(\"A quantidade de seguidores em conformidade a quantidade atual de seguidores no GitHub.\")\n",
    "        else:\n",
    "            return print(\"A quantidade de seguidores não está igual\")\n",
    "\n",
    "\n",
    "    def execute_test(self):\n",
    "        print(\"Resultado das verificações de teste no Dataframe.\")\n",
    "        df = self.read_data()\n",
    "        self.clean_company(df=df)\n",
    "        self.date_format(df=df)\n",
    "        self.count_followers(df=df)\n",
    "        "
   ]
  },
  {
   "cell_type": "code",
   "execution_count": null,
   "metadata": {
    "application/vnd.databricks.v1+cell": {
     "cellMetadata": {
      "byteLimit": 2048000,
      "rowLimit": 10000
     },
     "inputWidgets": {},
     "nuid": "ffc4120a-842b-4665-a693-43e50431f391",
     "showTitle": true,
     "title": "Constantes"
    }
   },
   "outputs": [],
   "source": [
    "user = ''\n",
    "token = ''\n",
    "path = '/app/output/'\n"
   ]
  },
  {
   "cell_type": "code",
   "execution_count": null,
   "metadata": {
    "application/vnd.databricks.v1+cell": {
     "cellMetadata": {
      "byteLimit": 2048000,
      "rowLimit": 10000
     },
     "inputWidgets": {},
     "nuid": "27e439df-7f85-4a5b-8f2a-232a4ac10875",
     "showTitle": false,
     "title": ""
    }
   },
   "outputs": [],
   "source": [
    "spark.conf.set(\"spark.sql.sources.commitProtocolClass\", \"org.apache.spark.sql.execution.datasources.SQLHadoopMapReduceCommitProtocol\")\n",
    "spark.conf.set(\"parquet.enable.summary-metadata\", \"false\")\n",
    "spark.conf.set(\"mapreduce.fileoutputcommitter.marksuccessfuljobs\", \"false\")"
   ]
  },
  {
   "cell_type": "code",
   "execution_count": null,
   "metadata": {
    "application/vnd.databricks.v1+cell": {
     "cellMetadata": {
      "byteLimit": 2048000,
      "rowLimit": 10000
     },
     "inputWidgets": {},
     "nuid": "024d84bf-322a-4e94-8aa5-9135176cdb3a",
     "showTitle": true,
     "title": "Instanciação dos Objetos"
    }
   },
   "outputs": [],
   "source": [
    "extractor = DataExtractorIfood(spark=spark, user=user, token=token)\n",
    "transformer = DataTransformerIfood()\n",
    "loader = DataLoaderIfood(path)\n",
    "test = DataTestIfood(spark=spark,path=path,user=user,token=token)"
   ]
  },
  {
   "cell_type": "code",
   "execution_count": null,
   "metadata": {
    "application/vnd.databricks.v1+cell": {
     "cellMetadata": {
      "byteLimit": 2048000,
      "rowLimit": 10000
     },
     "inputWidgets": {},
     "nuid": "76fe1c02-57ad-4057-a345-2487e392bdc1",
     "showTitle": false,
     "title": ""
    }
   },
   "outputs": [
    {
     "name": "stdout",
     "output_type": "stream",
     "text": [
      "Resultado das verificações de teste no Dataframe.\n",
      "Não existe '@' na coluna 'company'.\n",
      "A coluna 'created_at' está com as datas no formato dd/mm/yyyy.\n",
      "A quantidade de seguidores em conformidade a quantidade atual de seguidores no GitHub.\n"
     ]
    }
   ],
   "source": [
    "df_with_github_info = extractor.execute_extract_api()\n",
    "\n",
    "df_transformed = transformer.transform(df_with_github_info)\n",
    "\n",
    "loader.save_to_csv(df_transformed)\n",
    "\n",
    "test.execute_test()"
   ]
  },
  {
   "cell_type": "markdown",
   "metadata": {
    "application/vnd.databricks.v1+cell": {
     "cellMetadata": {
      "byteLimit": 2048000,
      "rowLimit": 10000
     },
     "inputWidgets": {},
     "nuid": "9425d92b-8e6f-4044-9c45-15154e0e4a06",
     "showTitle": false,
     "title": ""
    }
   },
   "source": [
    "## Testes"
   ]
  },
  {
   "cell_type": "code",
   "execution_count": null,
   "metadata": {
    "application/vnd.databricks.v1+cell": {
     "cellMetadata": {
      "byteLimit": 2048000,
      "rowLimit": 10000
     },
     "inputWidgets": {},
     "nuid": "d87b7225-844f-47fe-9a3a-9cadcf891372",
     "showTitle": false,
     "title": ""
    }
   },
   "outputs": [],
   "source": [
    "from pyspark.sql.functions import  col, regexp_extract"
   ]
  },
  {
   "cell_type": "code",
   "execution_count": null,
   "metadata": {
    "application/vnd.databricks.v1+cell": {
     "cellMetadata": {
      "byteLimit": 2048000,
      "rowLimit": 10000
     },
     "inputWidgets": {},
     "nuid": "4b03def7-d0a0-4677-9a89-60de486805ee",
     "showTitle": false,
     "title": ""
    }
   },
   "outputs": [],
   "source": [
    "df_test = spark.read.format(\"csv\").options(header = True, multiLine=True).load(path)"
   ]
  },
  {
   "cell_type": "code",
   "execution_count": null,
   "metadata": {
    "application/vnd.databricks.v1+cell": {
     "cellMetadata": {
      "byteLimit": 2048000,
      "rowLimit": 10000
     },
     "inputWidgets": {},
     "nuid": "abe65eb9-f440-4481-9d85-fc7d417d6369",
     "showTitle": false,
     "title": ""
    }
   },
   "outputs": [],
   "source": [
    "if df_test.filter(col(\"company\").like(\"%@%\")).count() > 0:\n",
    "    print(\"Existe pelo menos um '@' na coluna 'company'.\")\n",
    "else:\n",
    "    print(\"Não existe '@' na coluna 'company'.\")"
   ]
  },
  {
   "cell_type": "code",
   "execution_count": null,
   "metadata": {
    "application/vnd.databricks.v1+cell": {
     "cellMetadata": {
      "byteLimit": 2048000,
      "rowLimit": 10000
     },
     "inputWidgets": {},
     "nuid": "dd9240a3-0a3b-40f6-bb6b-b5bf21bc3527",
     "showTitle": false,
     "title": ""
    }
   },
   "outputs": [],
   "source": [
    "pattern = r'^\\d{2}/\\d{2}/\\d{4}$'\n",
    "if df_test.filter(regexp_extract(col(\"created_at\"), pattern, 0) != \"\").count() == df_test.count():\n",
    "    print(\"A coluna 'created_at' está com as datas no formato dd/mm/yyyy.\")\n",
    "else:\n",
    "    print(\"A coluna 'created_at' não está com todas as datas no formato dd/mm/yyyy.\")"
   ]
  },
  {
   "cell_type": "code",
   "execution_count": null,
   "metadata": {
    "application/vnd.databricks.v1+cell": {
     "cellMetadata": {
      "byteLimit": 2048000,
      "rowLimit": 10000
     },
     "inputWidgets": {},
     "nuid": "ee07c213-5206-4068-aeea-34f82ba92cea",
     "showTitle": false,
     "title": ""
    }
   },
   "outputs": [],
   "source": [
    "df_test.display()"
   ]
  }
 ],
 "metadata": {
  "application/vnd.databricks.v1+notebook": {
   "dashboards": [],
   "environmentMetadata": null,
   "language": "python",
   "notebookMetadata": {
    "pythonIndentUnit": 4
   },
   "notebookName": "Ifood - People Analytics - Modularização",
   "widgets": {}
  },
  "language_info": {
   "name": "python"
  }
 },
 "nbformat": 4,
 "nbformat_minor": 0
}
