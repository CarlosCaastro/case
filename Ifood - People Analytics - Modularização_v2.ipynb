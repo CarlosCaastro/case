{
 "cells": [
  {
   "cell_type": "code",
   "execution_count": null,
   "metadata": {
    "application/vnd.databricks.v1+cell": {
     "cellMetadata": {
      "byteLimit": 2048000,
      "rowLimit": 10000
     },
     "collapsed": true,
     "inputWidgets": {},
     "nuid": "c098e5f1-d791-44f9-ac49-b574985fd17b",
     "showTitle": false,
     "title": ""
    }
   },
   "outputs": [],
   "source": [
    "import requests\n",
    "from pyspark.sql import SparkSession\n",
    "from pyspark.sql.types import StructType, StringType, StructField, IntegerType, Row\n",
    "\n",
    "class DataExtractorIfood:\n",
    "    def __init__(self, spark: SparkSession, user: str, token: str):\n",
    "        self.spark = spark\n",
    "        self.user = user\n",
    "        self.headers = {\"Authorization\": f\"token {token}\"}\n",
    "\n",
    "    def get_followers(self):\n",
    "        followers = []\n",
    "        page = 1\n",
    "        while True:\n",
    "            end_point_followers = f'https://api.github.com/users/{self.user}/followers?page={page}'\n",
    "            response_followers = requests.get(end_point_followers, headers=self.headers).json()\n",
    "            if not response_followers:\n",
    "                break\n",
    "            followers.extend(response_followers)\n",
    "            page += 1\n",
    "        users = [{'login': follower['login']} for follower in followers]\n",
    "        followers_df = self.spark.createDataFrame(users)\n",
    "        return followers_df\n",
    "\n",
    "    def get_github_user_info(self, login):\n",
    "        url = f\"https://api.github.com/users/{login}\"\n",
    "        response = requests.get(url, headers=self.headers)\n",
    "        if response.status_code == 200:\n",
    "            user_info = response.json()\n",
    "            return (\n",
    "                user_info.get('name'),\n",
    "                user_info.get('company'),\n",
    "                user_info.get('blog'),\n",
    "                user_info.get('email'),\n",
    "                user_info.get('bio'),\n",
    "                user_info.get('public_repos'),\n",
    "                user_info.get('followers'),\n",
    "                user_info.get('following'),\n",
    "                user_info.get('created_at')\n",
    "            )\n",
    "        else:\n",
    "            return (None, None, None, None, None, None, None, None, None)\n",
    "\n",
    "    def enrich_with_github_info(self, df):\n",
    "        users = df.collect()\n",
    "\n",
    "        enriched_data = []\n",
    "        for user in users:\n",
    "            user_info = self.get_github_user_info(user['login'])\n",
    "            enriched_data.append(Row(\n",
    "                name=user_info[0],\n",
    "                company=user_info[1],\n",
    "                blog=user_info[2],\n",
    "                email=user_info[3],\n",
    "                bio=user_info[4],\n",
    "                public_repos=user_info[5],\n",
    "                followers=user_info[6],\n",
    "                following=user_info[7],\n",
    "                created_at=user_info[8]\n",
    "            ))\n",
    "\n",
    "        schema = StructType([\n",
    "            StructField(\"name\", StringType(), True),\n",
    "            StructField(\"company\", StringType(), True),\n",
    "            StructField(\"blog\", StringType(), True),\n",
    "            StructField(\"email\", StringType(), True),\n",
    "            StructField(\"bio\", StringType(), True),\n",
    "            StructField(\"public_repos\", IntegerType(), True),\n",
    "            StructField(\"followers\", IntegerType(), True),\n",
    "            StructField(\"following\", IntegerType(), True),\n",
    "            StructField(\"created_at\", StringType(), True)\n",
    "        ])\n",
    "        \n",
    "        enriched_df = self.spark.createDataFrame(enriched_data, schema)\n",
    "        return enriched_df\n",
    "\n",
    "    def execute_extract_api(self):\n",
    "        df = self.get_followers()\n",
    "        df_extract = self.enrich_with_github_info(df=df)\n",
    "\n",
    "        return df_extract\n",
    "\n",
    "    def read_csv(self, path):\n",
    "        return self.spark.read.csv(path, header=True, inferSchema=True)\n",
    "    \n",
    "    def get_count_followers(self):\n",
    "        url = f\"https://api.github.com/users/{self.user}\"\n",
    "        response = requests.get(url, headers=self.headers)\n",
    "        data = response.json()\n",
    "        followers_count = data.get('followers')\n",
    "\n",
    "        return followers_count\n"
   ]
  },
  {
   "cell_type": "code",
   "execution_count": null,
   "metadata": {
    "application/vnd.databricks.v1+cell": {
     "cellMetadata": {
      "byteLimit": 2048000,
      "rowLimit": 10000
     },
     "inputWidgets": {},
     "nuid": "316f777c-014e-4214-850f-7a9776477f8a",
     "showTitle": false,
     "title": ""
    }
   },
   "outputs": [],
   "source": [
    "import requests\n",
    "from pyspark.sql import SparkSession\n",
    "from pyspark.sql.types import StructType, StringType, StructField, IntegerType\n",
    "from pyspark.sql.functions import udf\n",
    "\n",
    "\n",
    "def get_github_user_info(login, token):\n",
    "    url = f\"https://api.github.com/users/{login}\"\n",
    "    headers = {\"Authorization\": f\"token {token}\"}\n",
    "    response = requests.get(url, headers=headers)\n",
    "    if response.status_code == 200:\n",
    "        user_info = response.json()\n",
    "        return (\n",
    "            user_info.get('name'),\n",
    "            user_info.get('company'),\n",
    "            user_info.get('blog'),\n",
    "            user_info.get('email'),\n",
    "            user_info.get('bio'),\n",
    "            user_info.get('public_repos'),\n",
    "            user_info.get('followers'),\n",
    "            user_info.get('following'),\n",
    "            user_info.get('created_at')\n",
    "        )\n",
    "    else:\n",
    "        return (None, None, None, None, None, None, None, None, None)\n",
    "\n",
    "class DataExtractorIfood:\n",
    "    def __init__(self, spark: SparkSession, user: str, token: str):\n",
    "        self.spark = spark\n",
    "        self.user = user\n",
    "        self.token = token\n",
    "\n",
    "    def get_followers(self):\n",
    "        followers = []\n",
    "        page = 1\n",
    "        while True:\n",
    "            end_point_followers = f'https://api.github.com/users/{self.user}/followers?page={page}'\n",
    "            response_followers = requests.get(end_point_followers, headers={\"Authorization\": f\"token {self.token}\"}).json()\n",
    "            if not response_followers:\n",
    "                break\n",
    "            followers.extend(response_followers)\n",
    "            page += 1\n",
    "        users = [{'login': follower['login']} for follower in followers]\n",
    "        followers_df = self.spark.createDataFrame(users)\n",
    "        return followers_df\n",
    "\n",
    "    def enrich_with_github_info(self, df):\n",
    "        schema = StructType([\n",
    "            StructField(\"name\", StringType(), True),\n",
    "            StructField(\"company\", StringType(), True),\n",
    "            StructField(\"blog\", StringType(), True),\n",
    "            StructField(\"email\", StringType(), True),\n",
    "            StructField(\"bio\", StringType(), True),\n",
    "            StructField(\"public_repos\", IntegerType(), True),\n",
    "            StructField(\"followers\", IntegerType(), True),\n",
    "            StructField(\"following\", IntegerType(), True),\n",
    "            StructField(\"created_at\", StringType(), True)\n",
    "        ])\n",
    "\n",
    "        token = self.token\n",
    "\n",
    "        @udf(returnType=schema)\n",
    "        def get_github_user_info_udf(login):\n",
    "            return get_github_user_info(login, token)\n",
    "\n",
    "        enriched_df = df.withColumn(\"github_info\", get_github_user_info_udf(df[\"login\"]))\n",
    "\n",
    "        enriched_df = enriched_df.select(\n",
    "            \"github_info.name\",\n",
    "            \"github_info.company\",\n",
    "            \"github_info.blog\",\n",
    "            \"github_info.email\",\n",
    "            \"github_info.bio\",\n",
    "            \"github_info.public_repos\",\n",
    "            \"github_info.followers\",\n",
    "            \"github_info.following\",\n",
    "            \"github_info.created_at\"\n",
    "        )\n",
    "\n",
    "        return enriched_df\n",
    "\n",
    "    def execute_extract_api(self):\n",
    "        df = self.get_followers()\n",
    "        df_extract = self.enrich_with_github_info(df=df)\n",
    "        return df_extract\n",
    "\n",
    "    def read_csv(self, path):\n",
    "        return self.spark.read.csv(path, header=True, inferSchema=True)\n",
    "\n",
    "    def get_count_followers(self):\n",
    "        url = f\"https://api.github.com/users/{self.user}\"\n",
    "        response = requests.get(url, headers={\"Authorization\": f\"token {self.token}\"})\n",
    "        data = response.json()\n",
    "        followers_count = data.get('followers')\n",
    "        return followers_count\n"
   ]
  },
  {
   "cell_type": "code",
   "execution_count": null,
   "metadata": {
    "application/vnd.databricks.v1+cell": {
     "cellMetadata": {
      "byteLimit": 2048000,
      "rowLimit": 10000
     },
     "collapsed": true,
     "inputWidgets": {},
     "nuid": "f247347d-98a8-4979-a332-700d1f050a4c",
     "showTitle": false,
     "title": ""
    }
   },
   "outputs": [],
   "source": [
    "from pyspark.sql import DataFrame\n",
    "from pyspark.sql.functions import regexp_replace, to_date, date_format\n",
    "\n",
    "class DataLoaderIfood:\n",
    "    def __init__(self, path: str):\n",
    "        self.path = path\n",
    "\n",
    "    def save_to_csv(self, df: DataFrame):\n",
    "        df.coalesce(1).write.csv(self.path, header=True, mode=\"append\")\n"
   ]
  },
  {
   "cell_type": "code",
   "execution_count": null,
   "metadata": {
    "application/vnd.databricks.v1+cell": {
     "cellMetadata": {
      "byteLimit": 2048000,
      "rowLimit": 10000
     },
     "collapsed": true,
     "inputWidgets": {},
     "nuid": "91b7a698-b4ec-4950-93b5-00cd147950cd",
     "showTitle": false,
     "title": ""
    }
   },
   "outputs": [],
   "source": [
    "from pyspark.sql import DataFrame\n",
    "from pyspark.sql.functions import regexp_replace, to_date, date_format\n",
    "\n",
    "class DataTransformerIfood:\n",
    "    @staticmethod\n",
    "    def transform(df: DataFrame) -> DataFrame:\n",
    "        df_transformed = df.withColumn(\"company\", regexp_replace(\"company\", \"@\", \"\")) \\\n",
    "                           .withColumn(\"created_at\", date_format(to_date(\"created_at\", \"yyyy-MM-dd'T'HH:mm:ss'Z'\"), \"dd/MM/yyyy\"))\n",
    "        return df_transformed\n"
   ]
  },
  {
   "cell_type": "code",
   "execution_count": null,
   "metadata": {
    "application/vnd.databricks.v1+cell": {
     "cellMetadata": {
      "byteLimit": 2048000,
      "rowLimit": 10000
     },
     "collapsed": true,
     "inputWidgets": {},
     "nuid": "1c7a9455-5a87-422f-9778-2d07ee6f6582",
     "showTitle": false,
     "title": ""
    }
   },
   "outputs": [],
   "source": [
    "from pyspark.sql import SparkSession\n",
    "from pyspark.sql.functions import  col, regexp_extract\n",
    "\n",
    "class DataTestIfood:\n",
    "\n",
    "    def __init__(self, spark: SparkSession,path,user, token):\n",
    "        self.spark = spark\n",
    "        self.path = path\n",
    "        self.user = user\n",
    "        self.token = token\n",
    "        self.headers = {\"Authorization\": f\"token {token}\"}\n",
    "\n",
    "    def read_data(self):\n",
    "        df_test = self.spark.read.format(\"csv\").options(header = True, multiLine=True).load(self.path)\n",
    "        \n",
    "        return df_test\n",
    "\n",
    "    def clean_company(self,df):\n",
    "        \n",
    "        if df.filter(col(\"company\").like(\"%@%\")).count() > 0:\n",
    "            print(\"Existe pelo menos um '@' na coluna 'company'.\")\n",
    "        else:\n",
    "            print(\"Não existe '@' na coluna 'company'.\")\n",
    "        \n",
    "    def date_format(self,df):\n",
    "\n",
    "        pattern = r'^\\d{2}/\\d{2}/\\d{4}$'\n",
    "\n",
    "        if df.filter(regexp_extract(col(\"created_at\"), pattern, 0) != \"\").count() == df.count():\n",
    "            print(\"A coluna 'created_at' está com as datas no formato dd/mm/yyyy.\")\n",
    "        else:\n",
    "            print(\"A coluna 'created_at' não está com todas as datas no formato dd/mm/yyyy.\")\n",
    "    \n",
    "    def count_followers(self,df):\n",
    "\n",
    "        followers_count = DataExtractorIfood(spark=self.spark,user=self.user,token=self.token).get_count_followers()\n",
    "        \n",
    "        if df.count() == followers_count:\n",
    "            return print(\"A quantidade de seguidores em conformidade a quantidade atual de seguidores no GitHub.\")\n",
    "        else:\n",
    "            return print(\"A quantidade de seguidores não está igual\")\n",
    "\n",
    "\n",
    "    def execute_test(self):\n",
    "        print(\"Resultado das verificações de teste no Dataframe.\")\n",
    "        df = self.read_data()\n",
    "        self.clean_company(df=df)\n",
    "        self.date_format(df=df)\n",
    "        self.count_followers(df=df)\n",
    "        "
   ]
  },
  {
   "cell_type": "code",
   "execution_count": null,
   "metadata": {
    "application/vnd.databricks.v1+cell": {
     "cellMetadata": {
      "byteLimit": 2048000,
      "rowLimit": 10000
     },
     "inputWidgets": {},
     "nuid": "ffc4120a-842b-4665-a693-43e50431f391",
     "showTitle": true,
     "title": "Constantes"
    }
   },
   "outputs": [],
   "source": [
    "user = 'marciocl'\n",
    "token = ''\n",
    "path = '/app/output/'\n"
   ]
  },
  {
   "cell_type": "code",
   "execution_count": null,
   "metadata": {
    "application/vnd.databricks.v1+cell": {
     "cellMetadata": {
      "byteLimit": 2048000,
      "rowLimit": 10000
     },
     "inputWidgets": {},
     "nuid": "27e439df-7f85-4a5b-8f2a-232a4ac10875",
     "showTitle": false,
     "title": ""
    }
   },
   "outputs": [],
   "source": [
    "spark.conf.set(\"spark.sql.sources.commitProtocolClass\", \"org.apache.spark.sql.execution.datasources.SQLHadoopMapReduceCommitProtocol\")\n",
    "spark.conf.set(\"parquet.enable.summary-metadata\", \"false\")\n",
    "spark.conf.set(\"mapreduce.fileoutputcommitter.marksuccessfuljobs\", \"false\")"
   ]
  },
  {
   "cell_type": "code",
   "execution_count": null,
   "metadata": {
    "application/vnd.databricks.v1+cell": {
     "cellMetadata": {
      "byteLimit": 2048000,
      "rowLimit": 10000
     },
     "inputWidgets": {},
     "nuid": "024d84bf-322a-4e94-8aa5-9135176cdb3a",
     "showTitle": true,
     "title": "Instanciação dos Objetos"
    }
   },
   "outputs": [],
   "source": [
    "extractor = DataExtractorIfood(spark=spark, user=user, token=token)\n",
    "transformer = DataTransformerIfood()\n",
    "loader = DataLoaderIfood(path)\n",
    "test = DataTestIfood(spark=spark,path=path,user=user,token=token)"
   ]
  },
  {
   "cell_type": "code",
   "execution_count": null,
   "metadata": {
    "application/vnd.databricks.v1+cell": {
     "cellMetadata": {
      "byteLimit": 2048000,
      "rowLimit": 10000
     },
     "inputWidgets": {},
     "nuid": "76fe1c02-57ad-4057-a345-2487e392bdc1",
     "showTitle": true,
     "title": "Extração"
    }
   },
   "outputs": [
    {
     "name": "stdout",
     "output_type": "stream",
     "text": [
      "Resultado das verificações de teste no Dataframe.\n",
      "Não existe '@' na coluna 'company'.\n",
      "A coluna 'created_at' está com as datas no formato dd/mm/yyyy.\n",
      "A quantidade de seguidores não está igual\n"
     ]
    }
   ],
   "source": [
    "df_with_github_info = extractor.execute_extract_api()\n",
    "\n",
    "df_transformed = transformer.transform(df_with_github_info)\n",
    "\n",
    "loader.save_to_csv(df_transformed)\n",
    "\n",
    "test.execute_test()"
   ]
  },
  {
   "cell_type": "code",
   "execution_count": null,
   "metadata": {
    "application/vnd.databricks.v1+cell": {
     "cellMetadata": {
      "byteLimit": 2048000,
      "rowLimit": 10000
     },
     "inputWidgets": {},
     "nuid": "a92dead3-1b39-44f2-9232-bac72dbb24ff",
     "showTitle": false,
     "title": ""
    }
   },
   "outputs": [
    {
     "data": {
      "text/html": [
       "<style scoped>\n",
       "  .table-result-container {\n",
       "    max-height: 300px;\n",
       "    overflow: auto;\n",
       "  }\n",
       "  table, th, td {\n",
       "    border: 1px solid black;\n",
       "    border-collapse: collapse;\n",
       "  }\n",
       "  th, td {\n",
       "    padding: 5px;\n",
       "  }\n",
       "  th {\n",
       "    text-align: left;\n",
       "  }\n",
       "</style><div class='table-result-container'><table class='table-result'><thead style='background-color: white'><tr><th>name</th><th>company</th><th>blog</th><th>email</th><th>bio</th><th>public_repos</th><th>followers</th><th>following</th><th>created_at</th></tr></thead><tbody><tr><td>Cícero Viana</td><td>null</td><td>linktr.ee/cicerohen</td><td>null</td><td>Front-end engineer and contributor  on @reactjs-ceara\r\n",
       "</td><td>29</td><td>287</td><td>92</td><td>2011-05-30T16:32:55Z</td></tr><tr><td>Dapieve</td><td>null</td><td>https://www.linkedin.com/in/luiz-henrique-dapieve-4ab91137/</td><td>lhzdapieve@gmail.com</td><td>Architect Mobile | Remote Developer Fullstack | PHP | JAVA | Android | Angular2</td><td>2</td><td>0</td><td>0</td><td>2013-06-07T11:30:35Z</td></tr><tr><td>Davi Montenegro</td><td>null</td><td></td><td>davi16sm@gmail.com</td><td>null</td><td>15</td><td>2</td><td>16</td><td>2013-11-14T00:29:19Z</td></tr><tr><td>Guto Macedo</td><td>null</td><td></td><td>null</td><td>null</td><td>8</td><td>7</td><td>6</td><td>2015-05-12T11:43:43Z</td></tr><tr><td>Walison Filipe</td><td>@buserbrasil </td><td>https://www.linkedin.com/in/walison-filipe</td><td>walisonfilipe@hotmail.com</td><td>Full stack developer #Python #Django</td><td>116</td><td>133</td><td>220</td><td>2015-09-11T22:10:07Z</td></tr><tr><td>David Torres</td><td>null</td><td></td><td>null</td><td>null</td><td>36</td><td>12</td><td>12</td><td>2015-11-27T10:43:51Z</td></tr><tr><td>Digo Gomes</td><td>Cheesecake Labs</td><td>https://gomes.dev</td><td>null</td><td>A developer reborn from the ashes of a designer.</td><td>27</td><td>20</td><td>28</td><td>2017-02-05T00:51:02Z</td></tr><tr><td>Eri JS</td><td>Unigrande</td><td>https://www.linkedin.com/in/erijsfernandes/</td><td>null</td><td>Front-End Developer React | Node | Vue | Nuxt | </td><td>44</td><td>8</td><td>20</td><td>2017-10-31T15:30:50Z</td></tr><tr><td>Marcos Lisboa</td><td>CompreUp</td><td></td><td>null</td><td>ruby on rails developer</td><td>22</td><td>26</td><td>60</td><td>2017-11-27T05:07:18Z</td></tr><tr><td>Bruno Luiz da Paciência</td><td>iFood</td><td>https://www.linkedin.com/in/brunopaciencia/</td><td>null</td><td>null</td><td>1</td><td>2</td><td>16</td><td>2018-02-07T11:20:19Z</td></tr><tr><td>Rafael Spanholi</td><td>Auto Center Sul</td><td></td><td>null</td><td>null</td><td>13</td><td>26</td><td>42</td><td>2018-05-14T11:12:21Z</td></tr><tr><td>Cleyton Honorato Lima</td><td>Trílogo</td><td></td><td>null</td><td>Front-End Developer | Amante de tecnologia</td><td>22</td><td>17</td><td>32</td><td>2018-12-10T00:02:31Z</td></tr><tr><td>Roman Hossain Shaon</td><td>null</td><td></td><td>roman.shaon@gmail.com</td><td>null</td><td>61</td><td>4883</td><td>40696</td><td>2019-02-16T17:40:06Z</td></tr><tr><td>Daniel Rotela</td><td>Freelancer</td><td></td><td>null</td><td>Starting my Data Analytics Journey📊📈 \r\n",
       "Google Sheets & SQL</td><td>1</td><td>0</td><td>9</td><td>2019-07-19T18:28:11Z</td></tr><tr><td>Fabrício Sousa</td><td>null</td><td></td><td>null</td><td>TI Analyst/SysAdmin since 2010.\r\n",
       "Dev in progress... \r\n",
       "</td><td>7</td><td>28</td><td>33</td><td>2019-10-09T13:47:18Z</td></tr><tr><td>Jonatha Gomes</td><td>null</td><td></td><td>null</td><td>Frontend Developer | Technical in Network Computers | #react  #reactnative #nodejs</td><td>25</td><td>58</td><td>107</td><td>2019-11-29T15:29:29Z</td></tr><tr><td>Ricardo Tasso</td><td>null</td><td></td><td>null</td><td>null</td><td>6</td><td>4</td><td>16</td><td>2020-04-03T01:07:29Z</td></tr><tr><td>Ari Jesus</td><td>@winnin</td><td>https://www.linkedin.com/in/arimariojesus</td><td>arimario.jesus@hotmail.com</td><td>null</td><td>87</td><td>159</td><td>160</td><td>2020-04-30T16:10:17Z</td></tr><tr><td>Carlos Adriano</td><td>null</td><td></td><td>null</td><td>CyberSecurity Research - Application Security | Offensive Security | Cross Platform Reverse Engineer (Mobile/Windows) | CTI\r\n",
       "</td><td>19</td><td>44</td><td>9</td><td>2020-09-15T22:09:27Z</td></tr><tr><td>Emanuele</td><td>null</td><td>https://maxcohen31.github.io</td><td>led93@protonmail.com</td><td>Computer Science student | Python | C++ | Linux(Arch Linux, Debian) | Web Scraping | Machine Learning | SQL\r\n",
       "\r\n",
       "\r\n",
       "\r\n",
       "\r\n",
       "</td><td>44</td><td>1183</td><td>6384</td><td>2020-11-03T12:14:04Z</td></tr><tr><td>Ronaldo Segundo Jr</td><td>ronaldosegundojunior@hotmail.com</td><td>https://ronaldosegundojr.github.io/site.ronaldosegundojr/</td><td>null</td><td>Data Analyst and cyber security lover</td><td>24</td><td>128</td><td>685</td><td>2020-12-09T15:19:59Z</td></tr><tr><td>Thaiza Carvalho Nascimento</td><td>F1RST Tecnologia</td><td>https://www.linkedin.com/in/thaiza-nascimento/</td><td>null</td><td>A mortal developer with immortal dreams.</td><td>21</td><td>56</td><td>56</td><td>2021-01-19T23:57:40Z</td></tr><tr><td>Couto</td><td>null</td><td></td><td>null</td><td>null</td><td>4</td><td>7</td><td>40</td><td>2021-02-12T14:13:03Z</td></tr><tr><td>Mateus Rocha</td><td>null</td><td>portfolio-mateus-lr.vercel.app</td><td>mateus-lr@outlook.com</td><td>Frontend developer and UI Design in progress. 🔥  </td><td>20</td><td>26</td><td>81</td><td>2021-02-22T02:53:11Z</td></tr><tr><td>Cauan Victor</td><td>@digitalcollegebrasil</td><td>https://linktr.ee/cauandzn</td><td>null</td><td>Dev at @digitalcollegebrasil || @digitalcollegebr  • Mentor • Speaker • Contributor at @reactjs-ceara and @frontend-ce </td><td>107</td><td>272</td><td>1027</td><td>2021-09-28T20:20:30Z</td></tr><tr><td>Lucas Mello</td><td>Estudante</td><td></td><td>null</td><td>Aprimorando meus conhecimentos em desenvolvimento Web e Mobile para entrar no mercado de trabalho.\r\n",
       "Dev. Front-End | HTML | CSS | JavaScript </td><td>32</td><td>109</td><td>223</td><td>2021-10-14T14:45:49Z</td></tr><tr><td>Vinícius Assis</td><td>Runrun.it</td><td>https://www.linkedin.com/in/admviniciusassis/</td><td>null</td><td>Hello tech people! I'm a Tech Recruiter passionate about innovation in people management, communication and technology.</td><td>1</td><td>22</td><td>56</td><td>2022-01-06T19:54:35Z</td></tr><tr><td>Joel Lacerda</td><td>null</td><td>https://joellacerda.github.io</td><td>null</td><td>Welcome to my hub</td><td>66</td><td>168</td><td>237</td><td>2022-01-27T18:25:09Z</td></tr><tr><td>Guto Macedo</td><td>null</td><td></td><td>null</td><td>null</td><td>5</td><td>3</td><td>7</td><td>2022-05-15T23:21:34Z</td></tr><tr><td>Vinicius Azevedo</td><td>FIAP</td><td>https://www.linkedin.com/in/vin%C3%ADciusazevedo/</td><td>null</td><td>Tech Recruiter - Especialista em vagas de Tecnologia à nível Brasil</td><td>3</td><td>122</td><td>762</td><td>2022-05-29T19:58:21Z</td></tr><tr><td>Wesley Azevedo</td><td>null</td><td></td><td>null</td><td>null</td><td>14</td><td>9</td><td>40</td><td>2022-06-27T17:33:10Z</td></tr><tr><td>Renan Dantas</td><td>Digital College</td><td>https://renandantasdev.github.io/</td><td>null</td><td>print ('Hello, everbody!')</td><td>9</td><td>41</td><td>39</td><td>2022-08-14T19:54:21Z</td></tr><tr><td>diogopolesso</td><td>null</td><td>https://www.linkedin.com/in/diogopolesso/</td><td>null</td><td>Desenvolvedor Front-end | JavaScript | Node.js | MySQL | HTML+CSS | Analise e Desenvolvimento de Sistemas</td><td>66</td><td>116</td><td>460</td><td>2022-08-22T19:11:53Z</td></tr><tr><td>Fabiano Melo</td><td>null</td><td></td><td>null</td><td>Administrador de empresas | Data Analytics Jr | Sql | Python | Powe BI | SCRUM | EXCEL\r\n",
       "</td><td>1</td><td>37</td><td>53</td><td>2022-08-30T12:55:32Z</td></tr><tr><td>Mikael Monteiro</td><td>Digital College Brasil</td><td>https://mikaelmonteirodev.github.io</td><td>null</td><td>FullStack Developer\r\n",
       "</td><td>31</td><td>71</td><td>127</td><td>2022-08-30T12:57:00Z</td></tr><tr><td>Wasley William</td><td>STEFANINI </td><td></td><td>ww.adm@outlook.com</td><td>Formado em administração em 2020 e atual estudante de análise e desenvolvimento de sistemas!!</td><td>5</td><td>0</td><td>33</td><td>2022-09-01T17:25:00Z</td></tr></tbody></table></div>"
      ]
     },
     "metadata": {
      "application/vnd.databricks.v1+output": {
       "addedWidgets": {},
       "aggData": [],
       "aggError": "",
       "aggOverflow": false,
       "aggSchema": [],
       "aggSeriesLimitReached": false,
       "aggType": "",
       "arguments": {},
       "columnCustomDisplayInfos": {},
       "data": [
        [
         "Cícero Viana",
         null,
         "linktr.ee/cicerohen",
         null,
         "Front-end engineer and contributor  on @reactjs-ceara\r\n",
         29,
         287,
         92,
         "2011-05-30T16:32:55Z"
        ],
        [
         "Dapieve",
         null,
         "https://www.linkedin.com/in/luiz-henrique-dapieve-4ab91137/",
         "lhzdapieve@gmail.com",
         "Architect Mobile | Remote Developer Fullstack | PHP | JAVA | Android | Angular2",
         2,
         0,
         0,
         "2013-06-07T11:30:35Z"
        ],
        [
         "Davi Montenegro",
         null,
         "",
         "davi16sm@gmail.com",
         null,
         15,
         2,
         16,
         "2013-11-14T00:29:19Z"
        ],
        [
         "Guto Macedo",
         null,
         "",
         null,
         null,
         8,
         7,
         6,
         "2015-05-12T11:43:43Z"
        ],
        [
         "Walison Filipe",
         "@buserbrasil ",
         "https://www.linkedin.com/in/walison-filipe",
         "walisonfilipe@hotmail.com",
         "Full stack developer #Python #Django",
         116,
         133,
         220,
         "2015-09-11T22:10:07Z"
        ],
        [
         "David Torres",
         null,
         "",
         null,
         null,
         36,
         12,
         12,
         "2015-11-27T10:43:51Z"
        ],
        [
         "Digo Gomes",
         "Cheesecake Labs",
         "https://gomes.dev",
         null,
         "A developer reborn from the ashes of a designer.",
         27,
         20,
         28,
         "2017-02-05T00:51:02Z"
        ],
        [
         "Eri JS",
         "Unigrande",
         "https://www.linkedin.com/in/erijsfernandes/",
         null,
         "Front-End Developer React | Node | Vue | Nuxt | ",
         44,
         8,
         20,
         "2017-10-31T15:30:50Z"
        ],
        [
         "Marcos Lisboa",
         "CompreUp",
         "",
         null,
         "ruby on rails developer",
         22,
         26,
         60,
         "2017-11-27T05:07:18Z"
        ],
        [
         "Bruno Luiz da Paciência",
         "iFood",
         "https://www.linkedin.com/in/brunopaciencia/",
         null,
         null,
         1,
         2,
         16,
         "2018-02-07T11:20:19Z"
        ],
        [
         "Rafael Spanholi",
         "Auto Center Sul",
         "",
         null,
         null,
         13,
         26,
         42,
         "2018-05-14T11:12:21Z"
        ],
        [
         "Cleyton Honorato Lima",
         "Trílogo",
         "",
         null,
         "Front-End Developer | Amante de tecnologia",
         22,
         17,
         32,
         "2018-12-10T00:02:31Z"
        ],
        [
         "Roman Hossain Shaon",
         null,
         "",
         "roman.shaon@gmail.com",
         null,
         61,
         4883,
         40696,
         "2019-02-16T17:40:06Z"
        ],
        [
         "Daniel Rotela",
         "Freelancer",
         "",
         null,
         "Starting my Data Analytics Journey📊📈 \r\nGoogle Sheets & SQL",
         1,
         0,
         9,
         "2019-07-19T18:28:11Z"
        ],
        [
         "Fabrício Sousa",
         null,
         "",
         null,
         "TI Analyst/SysAdmin since 2010.\r\nDev in progress... \r\n",
         7,
         28,
         33,
         "2019-10-09T13:47:18Z"
        ],
        [
         "Jonatha Gomes",
         null,
         "",
         null,
         "Frontend Developer | Technical in Network Computers | #react  #reactnative #nodejs",
         25,
         58,
         107,
         "2019-11-29T15:29:29Z"
        ],
        [
         "Ricardo Tasso",
         null,
         "",
         null,
         null,
         6,
         4,
         16,
         "2020-04-03T01:07:29Z"
        ],
        [
         "Ari Jesus",
         "@winnin",
         "https://www.linkedin.com/in/arimariojesus",
         "arimario.jesus@hotmail.com",
         null,
         87,
         159,
         160,
         "2020-04-30T16:10:17Z"
        ],
        [
         "Carlos Adriano",
         null,
         "",
         null,
         "CyberSecurity Research - Application Security | Offensive Security | Cross Platform Reverse Engineer (Mobile/Windows) | CTI\r\n",
         19,
         44,
         9,
         "2020-09-15T22:09:27Z"
        ],
        [
         "Emanuele",
         null,
         "https://maxcohen31.github.io",
         "led93@protonmail.com",
         "Computer Science student | Python | C++ | Linux(Arch Linux, Debian) | Web Scraping | Machine Learning | SQL\r\n\r\n\r\n\r\n\r\n",
         44,
         1183,
         6384,
         "2020-11-03T12:14:04Z"
        ],
        [
         "Ronaldo Segundo Jr",
         "ronaldosegundojunior@hotmail.com",
         "https://ronaldosegundojr.github.io/site.ronaldosegundojr/",
         null,
         "Data Analyst and cyber security lover",
         24,
         128,
         685,
         "2020-12-09T15:19:59Z"
        ],
        [
         "Thaiza Carvalho Nascimento",
         "F1RST Tecnologia",
         "https://www.linkedin.com/in/thaiza-nascimento/",
         null,
         "A mortal developer with immortal dreams.",
         21,
         56,
         56,
         "2021-01-19T23:57:40Z"
        ],
        [
         "Couto",
         null,
         "",
         null,
         null,
         4,
         7,
         40,
         "2021-02-12T14:13:03Z"
        ],
        [
         "Mateus Rocha",
         null,
         "portfolio-mateus-lr.vercel.app",
         "mateus-lr@outlook.com",
         "Frontend developer and UI Design in progress. 🔥  ",
         20,
         26,
         81,
         "2021-02-22T02:53:11Z"
        ],
        [
         "Cauan Victor",
         "@digitalcollegebrasil",
         "https://linktr.ee/cauandzn",
         null,
         "Dev at @digitalcollegebrasil || @digitalcollegebr  • Mentor • Speaker • Contributor at @reactjs-ceara and @frontend-ce ",
         107,
         272,
         1027,
         "2021-09-28T20:20:30Z"
        ],
        [
         "Lucas Mello",
         "Estudante",
         "",
         null,
         "Aprimorando meus conhecimentos em desenvolvimento Web e Mobile para entrar no mercado de trabalho.\r\nDev. Front-End | HTML | CSS | JavaScript ",
         32,
         109,
         223,
         "2021-10-14T14:45:49Z"
        ],
        [
         "Vinícius Assis",
         "Runrun.it",
         "https://www.linkedin.com/in/admviniciusassis/",
         null,
         "Hello tech people! I'm a Tech Recruiter passionate about innovation in people management, communication and technology.",
         1,
         22,
         56,
         "2022-01-06T19:54:35Z"
        ],
        [
         "Joel Lacerda",
         null,
         "https://joellacerda.github.io",
         null,
         "Welcome to my hub",
         66,
         168,
         237,
         "2022-01-27T18:25:09Z"
        ],
        [
         "Guto Macedo",
         null,
         "",
         null,
         null,
         5,
         3,
         7,
         "2022-05-15T23:21:34Z"
        ],
        [
         "Vinicius Azevedo",
         "FIAP",
         "https://www.linkedin.com/in/vin%C3%ADciusazevedo/",
         null,
         "Tech Recruiter - Especialista em vagas de Tecnologia à nível Brasil",
         3,
         122,
         762,
         "2022-05-29T19:58:21Z"
        ],
        [
         "Wesley Azevedo",
         null,
         "",
         null,
         null,
         14,
         9,
         40,
         "2022-06-27T17:33:10Z"
        ],
        [
         "Renan Dantas",
         "Digital College",
         "https://renandantasdev.github.io/",
         null,
         "print ('Hello, everbody!')",
         9,
         41,
         39,
         "2022-08-14T19:54:21Z"
        ],
        [
         "diogopolesso",
         null,
         "https://www.linkedin.com/in/diogopolesso/",
         null,
         "Desenvolvedor Front-end | JavaScript | Node.js | MySQL | HTML+CSS | Analise e Desenvolvimento de Sistemas",
         66,
         116,
         460,
         "2022-08-22T19:11:53Z"
        ],
        [
         "Fabiano Melo",
         null,
         "",
         null,
         "Administrador de empresas | Data Analytics Jr | Sql | Python | Powe BI | SCRUM | EXCEL\r\n",
         1,
         37,
         53,
         "2022-08-30T12:55:32Z"
        ],
        [
         "Mikael Monteiro",
         "Digital College Brasil",
         "https://mikaelmonteirodev.github.io",
         null,
         "FullStack Developer\r\n",
         31,
         71,
         127,
         "2022-08-30T12:57:00Z"
        ],
        [
         "Wasley William",
         "STEFANINI ",
         "",
         "ww.adm@outlook.com",
         "Formado em administração em 2020 e atual estudante de análise e desenvolvimento de sistemas!!",
         5,
         0,
         33,
         "2022-09-01T17:25:00Z"
        ]
       ],
       "datasetInfos": [],
       "dbfsResultPath": null,
       "isJsonSchema": true,
       "metadata": {},
       "overflow": false,
       "plotOptions": {
        "customPlotOptions": {},
        "displayType": "table",
        "pivotAggregation": null,
        "pivotColumns": null,
        "xColumns": null,
        "yColumns": null
       },
       "removedWidgets": [],
       "schema": [
        {
         "metadata": "{}",
         "name": "name",
         "type": "\"string\""
        },
        {
         "metadata": "{}",
         "name": "company",
         "type": "\"string\""
        },
        {
         "metadata": "{}",
         "name": "blog",
         "type": "\"string\""
        },
        {
         "metadata": "{}",
         "name": "email",
         "type": "\"string\""
        },
        {
         "metadata": "{}",
         "name": "bio",
         "type": "\"string\""
        },
        {
         "metadata": "{}",
         "name": "public_repos",
         "type": "\"integer\""
        },
        {
         "metadata": "{}",
         "name": "followers",
         "type": "\"integer\""
        },
        {
         "metadata": "{}",
         "name": "following",
         "type": "\"integer\""
        },
        {
         "metadata": "{}",
         "name": "created_at",
         "type": "\"string\""
        }
       ],
       "type": "table"
      }
     },
     "output_type": "display_data"
    }
   ],
   "source": [
    "df_with_github_info.display()"
   ]
  },
  {
   "cell_type": "code",
   "execution_count": null,
   "metadata": {
    "application/vnd.databricks.v1+cell": {
     "cellMetadata": {
      "byteLimit": 2048000,
      "rowLimit": 10000
     },
     "inputWidgets": {},
     "nuid": "80e60e8b-b5e4-4cf0-8c69-1f5a086c51ee",
     "showTitle": false,
     "title": ""
    }
   },
   "outputs": [
    {
     "data": {
      "text/html": [
       "<style scoped>\n",
       "  .table-result-container {\n",
       "    max-height: 300px;\n",
       "    overflow: auto;\n",
       "  }\n",
       "  table, th, td {\n",
       "    border: 1px solid black;\n",
       "    border-collapse: collapse;\n",
       "  }\n",
       "  th, td {\n",
       "    padding: 5px;\n",
       "  }\n",
       "  th {\n",
       "    text-align: left;\n",
       "  }\n",
       "</style><div class='table-result-container'><table class='table-result'><thead style='background-color: white'><tr><th>name</th><th>company</th><th>blog</th><th>email</th><th>bio</th><th>public_repos</th><th>followers</th><th>following</th><th>created_at</th></tr></thead><tbody><tr><td>Cícero Viana</td><td>null</td><td>linktr.ee/cicerohen</td><td>null</td><td>Front-end engineer and contributor  on @reactjs-ceara\r\n",
       "</td><td>29</td><td>287</td><td>92</td><td>30/05/2011</td></tr><tr><td>Dapieve</td><td>null</td><td>https://www.linkedin.com/in/luiz-henrique-dapieve-4ab91137/</td><td>lhzdapieve@gmail.com</td><td>Architect Mobile | Remote Developer Fullstack | PHP | JAVA | Android | Angular2</td><td>2</td><td>0</td><td>0</td><td>07/06/2013</td></tr><tr><td>Davi Montenegro</td><td>null</td><td></td><td>davi16sm@gmail.com</td><td>null</td><td>15</td><td>2</td><td>16</td><td>14/11/2013</td></tr><tr><td>Guto Macedo</td><td>null</td><td></td><td>null</td><td>null</td><td>8</td><td>7</td><td>6</td><td>12/05/2015</td></tr><tr><td>Walison Filipe</td><td>buserbrasil </td><td>https://www.linkedin.com/in/walison-filipe</td><td>walisonfilipe@hotmail.com</td><td>Full stack developer #Python #Django</td><td>116</td><td>133</td><td>220</td><td>11/09/2015</td></tr><tr><td>David Torres</td><td>null</td><td></td><td>null</td><td>null</td><td>36</td><td>12</td><td>12</td><td>27/11/2015</td></tr><tr><td>Digo Gomes</td><td>Cheesecake Labs</td><td>https://gomes.dev</td><td>null</td><td>A developer reborn from the ashes of a designer.</td><td>27</td><td>20</td><td>28</td><td>05/02/2017</td></tr><tr><td>Eri JS</td><td>Unigrande</td><td>https://www.linkedin.com/in/erijsfernandes/</td><td>null</td><td>Front-End Developer React | Node | Vue | Nuxt | </td><td>44</td><td>8</td><td>20</td><td>31/10/2017</td></tr><tr><td>Marcos Lisboa</td><td>CompreUp</td><td></td><td>null</td><td>ruby on rails developer</td><td>22</td><td>26</td><td>60</td><td>27/11/2017</td></tr><tr><td>Bruno Luiz da Paciência</td><td>iFood</td><td>https://www.linkedin.com/in/brunopaciencia/</td><td>null</td><td>null</td><td>1</td><td>2</td><td>16</td><td>07/02/2018</td></tr><tr><td>Rafael Spanholi</td><td>Auto Center Sul</td><td></td><td>null</td><td>null</td><td>13</td><td>26</td><td>42</td><td>14/05/2018</td></tr><tr><td>Cleyton Honorato Lima</td><td>Trílogo</td><td></td><td>null</td><td>Front-End Developer | Amante de tecnologia</td><td>22</td><td>17</td><td>32</td><td>10/12/2018</td></tr><tr><td>Roman Hossain Shaon</td><td>null</td><td></td><td>roman.shaon@gmail.com</td><td>null</td><td>61</td><td>4883</td><td>40696</td><td>16/02/2019</td></tr><tr><td>Daniel Rotela</td><td>Freelancer</td><td></td><td>null</td><td>Starting my Data Analytics Journey📊📈 \r\n",
       "Google Sheets & SQL</td><td>1</td><td>0</td><td>9</td><td>19/07/2019</td></tr><tr><td>Fabrício Sousa</td><td>null</td><td></td><td>null</td><td>TI Analyst/SysAdmin since 2010.\r\n",
       "Dev in progress... \r\n",
       "</td><td>7</td><td>28</td><td>33</td><td>09/10/2019</td></tr><tr><td>Jonatha Gomes</td><td>null</td><td></td><td>null</td><td>Frontend Developer | Technical in Network Computers | #react  #reactnative #nodejs</td><td>25</td><td>58</td><td>107</td><td>29/11/2019</td></tr><tr><td>Ricardo Tasso</td><td>null</td><td></td><td>null</td><td>null</td><td>6</td><td>4</td><td>16</td><td>03/04/2020</td></tr><tr><td>Ari Jesus</td><td>winnin</td><td>https://www.linkedin.com/in/arimariojesus</td><td>arimario.jesus@hotmail.com</td><td>null</td><td>87</td><td>159</td><td>160</td><td>30/04/2020</td></tr><tr><td>Carlos Adriano</td><td>null</td><td></td><td>null</td><td>CyberSecurity Research - Application Security | Offensive Security | Cross Platform Reverse Engineer (Mobile/Windows) | CTI\r\n",
       "</td><td>19</td><td>44</td><td>9</td><td>15/09/2020</td></tr><tr><td>Emanuele</td><td>null</td><td>https://maxcohen31.github.io</td><td>led93@protonmail.com</td><td>Computer Science student | Python | C++ | Linux(Arch Linux, Debian) | Web Scraping | Machine Learning | SQL\r\n",
       "\r\n",
       "\r\n",
       "\r\n",
       "\r\n",
       "</td><td>44</td><td>1183</td><td>6384</td><td>03/11/2020</td></tr><tr><td>Ronaldo Segundo Jr</td><td>ronaldosegundojuniorhotmail.com</td><td>https://ronaldosegundojr.github.io/site.ronaldosegundojr/</td><td>null</td><td>Data Analyst and cyber security lover</td><td>24</td><td>128</td><td>685</td><td>09/12/2020</td></tr><tr><td>Thaiza Carvalho Nascimento</td><td>F1RST Tecnologia</td><td>https://www.linkedin.com/in/thaiza-nascimento/</td><td>null</td><td>A mortal developer with immortal dreams.</td><td>21</td><td>56</td><td>56</td><td>19/01/2021</td></tr><tr><td>Couto</td><td>null</td><td></td><td>null</td><td>null</td><td>4</td><td>7</td><td>40</td><td>12/02/2021</td></tr><tr><td>Mateus Rocha</td><td>null</td><td>portfolio-mateus-lr.vercel.app</td><td>mateus-lr@outlook.com</td><td>Frontend developer and UI Design in progress. 🔥  </td><td>20</td><td>26</td><td>81</td><td>22/02/2021</td></tr><tr><td>Cauan Victor</td><td>digitalcollegebrasil</td><td>https://linktr.ee/cauandzn</td><td>null</td><td>Dev at @digitalcollegebrasil || @digitalcollegebr  • Mentor • Speaker • Contributor at @reactjs-ceara and @frontend-ce </td><td>107</td><td>272</td><td>1027</td><td>28/09/2021</td></tr><tr><td>Lucas Mello</td><td>Estudante</td><td></td><td>null</td><td>Aprimorando meus conhecimentos em desenvolvimento Web e Mobile para entrar no mercado de trabalho.\r\n",
       "Dev. Front-End | HTML | CSS | JavaScript </td><td>32</td><td>109</td><td>223</td><td>14/10/2021</td></tr><tr><td>Vinícius Assis</td><td>Runrun.it</td><td>https://www.linkedin.com/in/admviniciusassis/</td><td>null</td><td>Hello tech people! I'm a Tech Recruiter passionate about innovation in people management, communication and technology.</td><td>1</td><td>22</td><td>56</td><td>06/01/2022</td></tr><tr><td>Joel Lacerda</td><td>null</td><td>https://joellacerda.github.io</td><td>null</td><td>Welcome to my hub</td><td>66</td><td>168</td><td>237</td><td>27/01/2022</td></tr><tr><td>Guto Macedo</td><td>null</td><td></td><td>null</td><td>null</td><td>5</td><td>3</td><td>7</td><td>15/05/2022</td></tr><tr><td>Vinicius Azevedo</td><td>FIAP</td><td>https://www.linkedin.com/in/vin%C3%ADciusazevedo/</td><td>null</td><td>Tech Recruiter - Especialista em vagas de Tecnologia à nível Brasil</td><td>3</td><td>122</td><td>762</td><td>29/05/2022</td></tr><tr><td>Wesley Azevedo</td><td>null</td><td></td><td>null</td><td>null</td><td>14</td><td>9</td><td>40</td><td>27/06/2022</td></tr><tr><td>Renan Dantas</td><td>Digital College</td><td>https://renandantasdev.github.io/</td><td>null</td><td>print ('Hello, everbody!')</td><td>9</td><td>41</td><td>39</td><td>14/08/2022</td></tr><tr><td>diogopolesso</td><td>null</td><td>https://www.linkedin.com/in/diogopolesso/</td><td>null</td><td>Desenvolvedor Front-end | JavaScript | Node.js | MySQL | HTML+CSS | Analise e Desenvolvimento de Sistemas</td><td>66</td><td>116</td><td>460</td><td>22/08/2022</td></tr><tr><td>Fabiano Melo</td><td>null</td><td></td><td>null</td><td>Administrador de empresas | Data Analytics Jr | Sql | Python | Powe BI | SCRUM | EXCEL\r\n",
       "</td><td>1</td><td>37</td><td>53</td><td>30/08/2022</td></tr><tr><td>Mikael Monteiro</td><td>Digital College Brasil</td><td>https://mikaelmonteirodev.github.io</td><td>null</td><td>FullStack Developer\r\n",
       "</td><td>31</td><td>71</td><td>127</td><td>30/08/2022</td></tr><tr><td>Wasley William</td><td>STEFANINI </td><td></td><td>ww.adm@outlook.com</td><td>Formado em administração em 2020 e atual estudante de análise e desenvolvimento de sistemas!!</td><td>5</td><td>0</td><td>33</td><td>01/09/2022</td></tr></tbody></table></div>"
      ]
     },
     "metadata": {
      "application/vnd.databricks.v1+output": {
       "addedWidgets": {},
       "aggData": [],
       "aggError": "",
       "aggOverflow": false,
       "aggSchema": [],
       "aggSeriesLimitReached": false,
       "aggType": "",
       "arguments": {},
       "columnCustomDisplayInfos": {},
       "data": [
        [
         "Cícero Viana",
         null,
         "linktr.ee/cicerohen",
         null,
         "Front-end engineer and contributor  on @reactjs-ceara\r\n",
         29,
         287,
         92,
         "30/05/2011"
        ],
        [
         "Dapieve",
         null,
         "https://www.linkedin.com/in/luiz-henrique-dapieve-4ab91137/",
         "lhzdapieve@gmail.com",
         "Architect Mobile | Remote Developer Fullstack | PHP | JAVA | Android | Angular2",
         2,
         0,
         0,
         "07/06/2013"
        ],
        [
         "Davi Montenegro",
         null,
         "",
         "davi16sm@gmail.com",
         null,
         15,
         2,
         16,
         "14/11/2013"
        ],
        [
         "Guto Macedo",
         null,
         "",
         null,
         null,
         8,
         7,
         6,
         "12/05/2015"
        ],
        [
         "Walison Filipe",
         "buserbrasil ",
         "https://www.linkedin.com/in/walison-filipe",
         "walisonfilipe@hotmail.com",
         "Full stack developer #Python #Django",
         116,
         133,
         220,
         "11/09/2015"
        ],
        [
         "David Torres",
         null,
         "",
         null,
         null,
         36,
         12,
         12,
         "27/11/2015"
        ],
        [
         "Digo Gomes",
         "Cheesecake Labs",
         "https://gomes.dev",
         null,
         "A developer reborn from the ashes of a designer.",
         27,
         20,
         28,
         "05/02/2017"
        ],
        [
         "Eri JS",
         "Unigrande",
         "https://www.linkedin.com/in/erijsfernandes/",
         null,
         "Front-End Developer React | Node | Vue | Nuxt | ",
         44,
         8,
         20,
         "31/10/2017"
        ],
        [
         "Marcos Lisboa",
         "CompreUp",
         "",
         null,
         "ruby on rails developer",
         22,
         26,
         60,
         "27/11/2017"
        ],
        [
         "Bruno Luiz da Paciência",
         "iFood",
         "https://www.linkedin.com/in/brunopaciencia/",
         null,
         null,
         1,
         2,
         16,
         "07/02/2018"
        ],
        [
         "Rafael Spanholi",
         "Auto Center Sul",
         "",
         null,
         null,
         13,
         26,
         42,
         "14/05/2018"
        ],
        [
         "Cleyton Honorato Lima",
         "Trílogo",
         "",
         null,
         "Front-End Developer | Amante de tecnologia",
         22,
         17,
         32,
         "10/12/2018"
        ],
        [
         "Roman Hossain Shaon",
         null,
         "",
         "roman.shaon@gmail.com",
         null,
         61,
         4883,
         40696,
         "16/02/2019"
        ],
        [
         "Daniel Rotela",
         "Freelancer",
         "",
         null,
         "Starting my Data Analytics Journey📊📈 \r\nGoogle Sheets & SQL",
         1,
         0,
         9,
         "19/07/2019"
        ],
        [
         "Fabrício Sousa",
         null,
         "",
         null,
         "TI Analyst/SysAdmin since 2010.\r\nDev in progress... \r\n",
         7,
         28,
         33,
         "09/10/2019"
        ],
        [
         "Jonatha Gomes",
         null,
         "",
         null,
         "Frontend Developer | Technical in Network Computers | #react  #reactnative #nodejs",
         25,
         58,
         107,
         "29/11/2019"
        ],
        [
         "Ricardo Tasso",
         null,
         "",
         null,
         null,
         6,
         4,
         16,
         "03/04/2020"
        ],
        [
         "Ari Jesus",
         "winnin",
         "https://www.linkedin.com/in/arimariojesus",
         "arimario.jesus@hotmail.com",
         null,
         87,
         159,
         160,
         "30/04/2020"
        ],
        [
         "Carlos Adriano",
         null,
         "",
         null,
         "CyberSecurity Research - Application Security | Offensive Security | Cross Platform Reverse Engineer (Mobile/Windows) | CTI\r\n",
         19,
         44,
         9,
         "15/09/2020"
        ],
        [
         "Emanuele",
         null,
         "https://maxcohen31.github.io",
         "led93@protonmail.com",
         "Computer Science student | Python | C++ | Linux(Arch Linux, Debian) | Web Scraping | Machine Learning | SQL\r\n\r\n\r\n\r\n\r\n",
         44,
         1183,
         6384,
         "03/11/2020"
        ],
        [
         "Ronaldo Segundo Jr",
         "ronaldosegundojuniorhotmail.com",
         "https://ronaldosegundojr.github.io/site.ronaldosegundojr/",
         null,
         "Data Analyst and cyber security lover",
         24,
         128,
         685,
         "09/12/2020"
        ],
        [
         "Thaiza Carvalho Nascimento",
         "F1RST Tecnologia",
         "https://www.linkedin.com/in/thaiza-nascimento/",
         null,
         "A mortal developer with immortal dreams.",
         21,
         56,
         56,
         "19/01/2021"
        ],
        [
         "Couto",
         null,
         "",
         null,
         null,
         4,
         7,
         40,
         "12/02/2021"
        ],
        [
         "Mateus Rocha",
         null,
         "portfolio-mateus-lr.vercel.app",
         "mateus-lr@outlook.com",
         "Frontend developer and UI Design in progress. 🔥  ",
         20,
         26,
         81,
         "22/02/2021"
        ],
        [
         "Cauan Victor",
         "digitalcollegebrasil",
         "https://linktr.ee/cauandzn",
         null,
         "Dev at @digitalcollegebrasil || @digitalcollegebr  • Mentor • Speaker • Contributor at @reactjs-ceara and @frontend-ce ",
         107,
         272,
         1027,
         "28/09/2021"
        ],
        [
         "Lucas Mello",
         "Estudante",
         "",
         null,
         "Aprimorando meus conhecimentos em desenvolvimento Web e Mobile para entrar no mercado de trabalho.\r\nDev. Front-End | HTML | CSS | JavaScript ",
         32,
         109,
         223,
         "14/10/2021"
        ],
        [
         "Vinícius Assis",
         "Runrun.it",
         "https://www.linkedin.com/in/admviniciusassis/",
         null,
         "Hello tech people! I'm a Tech Recruiter passionate about innovation in people management, communication and technology.",
         1,
         22,
         56,
         "06/01/2022"
        ],
        [
         "Joel Lacerda",
         null,
         "https://joellacerda.github.io",
         null,
         "Welcome to my hub",
         66,
         168,
         237,
         "27/01/2022"
        ],
        [
         "Guto Macedo",
         null,
         "",
         null,
         null,
         5,
         3,
         7,
         "15/05/2022"
        ],
        [
         "Vinicius Azevedo",
         "FIAP",
         "https://www.linkedin.com/in/vin%C3%ADciusazevedo/",
         null,
         "Tech Recruiter - Especialista em vagas de Tecnologia à nível Brasil",
         3,
         122,
         762,
         "29/05/2022"
        ],
        [
         "Wesley Azevedo",
         null,
         "",
         null,
         null,
         14,
         9,
         40,
         "27/06/2022"
        ],
        [
         "Renan Dantas",
         "Digital College",
         "https://renandantasdev.github.io/",
         null,
         "print ('Hello, everbody!')",
         9,
         41,
         39,
         "14/08/2022"
        ],
        [
         "diogopolesso",
         null,
         "https://www.linkedin.com/in/diogopolesso/",
         null,
         "Desenvolvedor Front-end | JavaScript | Node.js | MySQL | HTML+CSS | Analise e Desenvolvimento de Sistemas",
         66,
         116,
         460,
         "22/08/2022"
        ],
        [
         "Fabiano Melo",
         null,
         "",
         null,
         "Administrador de empresas | Data Analytics Jr | Sql | Python | Powe BI | SCRUM | EXCEL\r\n",
         1,
         37,
         53,
         "30/08/2022"
        ],
        [
         "Mikael Monteiro",
         "Digital College Brasil",
         "https://mikaelmonteirodev.github.io",
         null,
         "FullStack Developer\r\n",
         31,
         71,
         127,
         "30/08/2022"
        ],
        [
         "Wasley William",
         "STEFANINI ",
         "",
         "ww.adm@outlook.com",
         "Formado em administração em 2020 e atual estudante de análise e desenvolvimento de sistemas!!",
         5,
         0,
         33,
         "01/09/2022"
        ]
       ],
       "datasetInfos": [],
       "dbfsResultPath": null,
       "isJsonSchema": true,
       "metadata": {},
       "overflow": false,
       "plotOptions": {
        "customPlotOptions": {},
        "displayType": "table",
        "pivotAggregation": null,
        "pivotColumns": null,
        "xColumns": null,
        "yColumns": null
       },
       "removedWidgets": [],
       "schema": [
        {
         "metadata": "{}",
         "name": "name",
         "type": "\"string\""
        },
        {
         "metadata": "{}",
         "name": "company",
         "type": "\"string\""
        },
        {
         "metadata": "{}",
         "name": "blog",
         "type": "\"string\""
        },
        {
         "metadata": "{}",
         "name": "email",
         "type": "\"string\""
        },
        {
         "metadata": "{}",
         "name": "bio",
         "type": "\"string\""
        },
        {
         "metadata": "{}",
         "name": "public_repos",
         "type": "\"integer\""
        },
        {
         "metadata": "{}",
         "name": "followers",
         "type": "\"integer\""
        },
        {
         "metadata": "{}",
         "name": "following",
         "type": "\"integer\""
        },
        {
         "metadata": "{}",
         "name": "created_at",
         "type": "\"string\""
        }
       ],
       "type": "table"
      }
     },
     "output_type": "display_data"
    }
   ],
   "source": [
    "df_transformed.display()"
   ]
  },
  {
   "cell_type": "markdown",
   "metadata": {
    "application/vnd.databricks.v1+cell": {
     "cellMetadata": {
      "byteLimit": 2048000,
      "rowLimit": 10000
     },
     "inputWidgets": {},
     "nuid": "9425d92b-8e6f-4044-9c45-15154e0e4a06",
     "showTitle": false,
     "title": ""
    }
   },
   "source": [
    "## Testes"
   ]
  },
  {
   "cell_type": "code",
   "execution_count": null,
   "metadata": {
    "application/vnd.databricks.v1+cell": {
     "cellMetadata": {
      "byteLimit": 2048000,
      "rowLimit": 10000
     },
     "inputWidgets": {},
     "nuid": "d87b7225-844f-47fe-9a3a-9cadcf891372",
     "showTitle": false,
     "title": ""
    }
   },
   "outputs": [],
   "source": [
    "from pyspark.sql.functions import  col, regexp_extract"
   ]
  },
  {
   "cell_type": "code",
   "execution_count": null,
   "metadata": {
    "application/vnd.databricks.v1+cell": {
     "cellMetadata": {
      "byteLimit": 2048000,
      "rowLimit": 10000
     },
     "inputWidgets": {},
     "nuid": "4b03def7-d0a0-4677-9a89-60de486805ee",
     "showTitle": false,
     "title": ""
    }
   },
   "outputs": [],
   "source": [
    "df_test = spark.read.format(\"csv\").options(header = True, multiLine=True).load(path)"
   ]
  },
  {
   "cell_type": "code",
   "execution_count": null,
   "metadata": {
    "application/vnd.databricks.v1+cell": {
     "cellMetadata": {
      "byteLimit": 2048000,
      "rowLimit": 10000
     },
     "inputWidgets": {},
     "nuid": "abe65eb9-f440-4481-9d85-fc7d417d6369",
     "showTitle": false,
     "title": ""
    }
   },
   "outputs": [],
   "source": [
    "if df_test.filter(col(\"company\").like(\"%@%\")).count() > 0:\n",
    "    print(\"Existe pelo menos um '@' na coluna 'company'.\")\n",
    "else:\n",
    "    print(\"Não existe '@' na coluna 'company'.\")"
   ]
  },
  {
   "cell_type": "code",
   "execution_count": null,
   "metadata": {
    "application/vnd.databricks.v1+cell": {
     "cellMetadata": {
      "byteLimit": 2048000,
      "rowLimit": 10000
     },
     "inputWidgets": {},
     "nuid": "dd9240a3-0a3b-40f6-bb6b-b5bf21bc3527",
     "showTitle": false,
     "title": ""
    }
   },
   "outputs": [],
   "source": [
    "pattern = r'^\\d{2}/\\d{2}/\\d{4}$'\n",
    "if df_test.filter(regexp_extract(col(\"created_at\"), pattern, 0) != \"\").count() == df_test.count():\n",
    "    print(\"A coluna 'created_at' está com as datas no formato dd/mm/yyyy.\")\n",
    "else:\n",
    "    print(\"A coluna 'created_at' não está com todas as datas no formato dd/mm/yyyy.\")"
   ]
  },
  {
   "cell_type": "code",
   "execution_count": null,
   "metadata": {
    "application/vnd.databricks.v1+cell": {
     "cellMetadata": {
      "byteLimit": 2048000,
      "rowLimit": 10000
     },
     "inputWidgets": {},
     "nuid": "ee07c213-5206-4068-aeea-34f82ba92cea",
     "showTitle": false,
     "title": ""
    }
   },
   "outputs": [],
   "source": [
    "df_test.display()"
   ]
  },
  {
   "cell_type": "code",
   "execution_count": null,
   "metadata": {
    "application/vnd.databricks.v1+cell": {
     "cellMetadata": {},
     "inputWidgets": {},
     "nuid": "fcc84e2b-c3b7-4852-a713-160bfe10545d",
     "showTitle": false,
     "title": ""
    }
   },
   "outputs": [],
   "source": []
  }
 ],
 "metadata": {
  "application/vnd.databricks.v1+notebook": {
   "dashboards": [],
   "environmentMetadata": null,
   "language": "python",
   "notebookMetadata": {
    "pythonIndentUnit": 4
   },
   "notebookName": "Ifood - People Analytics - Modularização",
   "widgets": {}
  },
  "language_info": {
   "name": "python"
  }
 },
 "nbformat": 4,
 "nbformat_minor": 0
}
