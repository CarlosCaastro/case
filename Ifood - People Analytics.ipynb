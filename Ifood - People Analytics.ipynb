{
 "cells": [
  {
   "cell_type": "code",
   "execution_count": null,
   "metadata": {
    "application/vnd.databricks.v1+cell": {
     "cellMetadata": {
      "byteLimit": 2048000,
      "rowLimit": 10000
     },
     "inputWidgets": {},
     "nuid": "dd8ed4d9-031d-4efa-b3bf-208d9d1a67f1",
     "showTitle": true,
     "title": "Imports"
    }
   },
   "outputs": [],
   "source": [
    "import requests\n",
    "from pyspark.sql.functions import udf, regexp_replace, to_date, col, regexp_extract, date_format\n",
    "from pyspark.sql.types import StructType, StringType, StructField, IntegerType, DateType\n"
   ]
  },
  {
   "cell_type": "code",
   "execution_count": null,
   "metadata": {
    "application/vnd.databricks.v1+cell": {
     "cellMetadata": {
      "byteLimit": 2048000,
      "rowLimit": 10000
     },
     "inputWidgets": {},
     "nuid": "822d1ee3-4172-49a5-b6c0-60db9e5e300a",
     "showTitle": true,
     "title": "Constantes"
    }
   },
   "outputs": [],
   "source": [
    "user =  'elonmuskceo'\n",
    "token = ''\n",
    "headers = {\n",
    "    \"Authorization\": f\"token {token}\"\n",
    "}\n",
    "path = '/app/output/'"
   ]
  },
  {
   "cell_type": "markdown",
   "metadata": {
    "application/vnd.databricks.v1+cell": {
     "cellMetadata": {
      "byteLimit": 2048000,
      "rowLimit": 10000
     },
     "inputWidgets": {},
     "nuid": "3eeec355-36c6-46ad-a187-2b7a88908add",
     "showTitle": false,
     "title": ""
    }
   },
   "source": [
    "## Extração"
   ]
  },
  {
   "cell_type": "code",
   "execution_count": null,
   "metadata": {
    "application/vnd.databricks.v1+cell": {
     "cellMetadata": {
      "byteLimit": 2048000,
      "rowLimit": 10000
     },
     "inputWidgets": {},
     "nuid": "bf13261e-efae-4b97-bfa8-eaae4870041c",
     "showTitle": false,
     "title": ""
    }
   },
   "outputs": [],
   "source": [
    "def get_followers(user, headers):\n",
    "    followers = []\n",
    "    page = 1\n",
    "    while True:\n",
    "        end_point_followers = f'https://api.github.com/users/{user}/followers?page={page}'\n",
    "        response_followers = requests.get(end_point_followers, headers=headers).json()\n",
    "        if not response_followers:\n",
    "            break\n",
    "        followers.extend(response_followers)\n",
    "        page += 1\n",
    "    return followers"
   ]
  },
  {
   "cell_type": "code",
   "execution_count": null,
   "metadata": {
    "application/vnd.databricks.v1+cell": {
     "cellMetadata": {
      "byteLimit": 2048000,
      "rowLimit": 10000
     },
     "inputWidgets": {},
     "nuid": "1a85a42c-ad60-4f8c-82ab-76c6dd83ffed",
     "showTitle": false,
     "title": ""
    }
   },
   "outputs": [
    {
     "data": {
      "text/html": [
       "<style scoped>\n",
       "  .ansiout {\n",
       "    display: block;\n",
       "    unicode-bidi: embed;\n",
       "    white-space: pre-wrap;\n",
       "    word-wrap: break-word;\n",
       "    word-break: break-all;\n",
       "    font-family: \"Menlo\", \"Monaco\", \"Consolas\", \"Ubuntu Mono\", \"Source Code Pro\", monospace;\n",
       "    font-size: 13px;\n",
       "    color: #555;\n",
       "    margin-left: 4px;\n",
       "    line-height: 19px;\n",
       "  }\n",
       "</style>"
      ]
     },
     "metadata": {
      "application/vnd.databricks.v1+output": {
       "arguments": {},
       "data": "",
       "errorSummary": "Cancelled",
       "errorTraceType": "html",
       "metadata": {},
       "type": "ipynbError"
      }
     },
     "output_type": "display_data"
    }
   ],
   "source": [
    "response_followers = get_followers(user, headers)"
   ]
  },
  {
   "cell_type": "code",
   "execution_count": null,
   "metadata": {
    "application/vnd.databricks.v1+cell": {
     "cellMetadata": {
      "byteLimit": 2048000,
      "rowLimit": 10000
     },
     "inputWidgets": {},
     "nuid": "fc93f393-155a-440c-b97d-cc8f5b654483",
     "showTitle": true,
     "title": "DataFrame de Seguidores"
    }
   },
   "outputs": [],
   "source": [
    "users = [{'login': follower['login']} for follower in response_followers]\n",
    "followers_df = spark.createDataFrame(users)"
   ]
  },
  {
   "cell_type": "code",
   "execution_count": null,
   "metadata": {
    "application/vnd.databricks.v1+cell": {
     "cellMetadata": {
      "byteLimit": 2048000,
      "rowLimit": 10000
     },
     "inputWidgets": {},
     "nuid": "dc30dbbe-c1be-458f-8302-ae70270e3761",
     "showTitle": false,
     "title": ""
    }
   },
   "outputs": [
    {
     "data": {
      "text/html": [
       "<style scoped>\n",
       "  .table-result-container {\n",
       "    max-height: 300px;\n",
       "    overflow: auto;\n",
       "  }\n",
       "  table, th, td {\n",
       "    border: 1px solid black;\n",
       "    border-collapse: collapse;\n",
       "  }\n",
       "  th, td {\n",
       "    padding: 5px;\n",
       "  }\n",
       "  th {\n",
       "    text-align: left;\n",
       "  }\n",
       "</style><div class='table-result-container'><table class='table-result'><thead style='background-color: white'><tr><th>login</th></tr></thead><tbody><tr><td>rccomp</td></tr><tr><td>nrupatunga</td></tr><tr><td>sdlonn</td></tr><tr><td>banekondic1996</td></tr><tr><td>nateraw</td></tr><tr><td>matiasignacio28</td></tr><tr><td>Jarvangod</td></tr><tr><td>brunoabcabral</td></tr><tr><td>Walinestlouis</td></tr><tr><td>jesuscaesar</td></tr><tr><td>yates009</td></tr><tr><td>bradleythomasporter</td></tr><tr><td>Idiotmann</td></tr><tr><td>mp1973</td></tr><tr><td>sartimo</td></tr><tr><td>VitorsmX</td></tr><tr><td>Schawnnara</td></tr><tr><td>elonmu</td></tr><tr><td>Stevenking666crypto</td></tr><tr><td>Nickonomics</td></tr><tr><td>Wajidmlk</td></tr><tr><td>Noburu-os</td></tr><tr><td>luca-moraes</td></tr><tr><td>GoblinQueen1</td></tr><tr><td>bernguyen</td></tr><tr><td>tamimuddin</td></tr><tr><td>Sonarie</td></tr><tr><td>Codeinnovater</td></tr><tr><td>kmec8788</td></tr><tr><td>Sleepower1</td></tr><tr><td>ArwaBouabdellah</td></tr><tr><td>Shanzixuan</td></tr><tr><td>Enedeza</td></tr><tr><td>AlcROY77</td></tr><tr><td>TrongHieu9999</td></tr><tr><td>advait2088</td></tr><tr><td>perry1015</td></tr><tr><td>schimilouski</td></tr><tr><td>VjckTjm</td></tr><tr><td>VidhyasriR</td></tr><tr><td>waltherwhite68</td></tr><tr><td>Alok774</td></tr><tr><td>HARDCORExHENRY</td></tr><tr><td>witcher619</td></tr><tr><td>Thegreat-maker</td></tr><tr><td>Sachinagrahari</td></tr><tr><td>BusterSR</td></tr><tr><td>Its-harin-05</td></tr><tr><td>Rakesh-Ananthakumar</td></tr><tr><td>Julianah253</td></tr><tr><td>2631004878</td></tr><tr><td>Godtune</td></tr><tr><td>miesieduoveria209</td></tr><tr><td>Deznyc1222</td></tr><tr><td>Shogzy06</td></tr><tr><td>Carnt01</td></tr><tr><td>XeonRK</td></tr><tr><td>devlynnx</td></tr><tr><td>DevelopWithMohsin</td></tr><tr><td>kiryl92</td></tr><tr><td>git4damre</td></tr><tr><td>joaovgcoelho</td></tr><tr><td>zedchuck</td></tr><tr><td>Dilip060</td></tr><tr><td>KvngGeorge</td></tr><tr><td>LogeshwaranMJ</td></tr><tr><td>joaquimpaulo</td></tr><tr><td>Nnaskeeitz</td></tr><tr><td>chenabyss</td></tr><tr><td>Daddyk1230</td></tr><tr><td>tsimpson97</td></tr><tr><td>Layfix123</td></tr><tr><td>Lorenzo0010N</td></tr><tr><td>Docwimz</td></tr><tr><td>juliomartinns</td></tr><tr><td>DallasLHannah3</td></tr><tr><td>azmsnamdsy</td></tr><tr><td>yluccaz27</td></tr><tr><td>AIDA-2456</td></tr><tr><td>Muryenoel</td></tr></tbody></table></div>"
      ]
     },
     "metadata": {
      "application/vnd.databricks.v1+output": {
       "addedWidgets": {},
       "aggData": [],
       "aggError": "",
       "aggOverflow": false,
       "aggSchema": [],
       "aggSeriesLimitReached": false,
       "aggType": "",
       "arguments": {},
       "columnCustomDisplayInfos": {},
       "data": [
        [
         "rccomp"
        ],
        [
         "nrupatunga"
        ],
        [
         "sdlonn"
        ],
        [
         "banekondic1996"
        ],
        [
         "nateraw"
        ],
        [
         "matiasignacio28"
        ],
        [
         "Jarvangod"
        ],
        [
         "brunoabcabral"
        ],
        [
         "Walinestlouis"
        ],
        [
         "jesuscaesar"
        ],
        [
         "yates009"
        ],
        [
         "bradleythomasporter"
        ],
        [
         "Idiotmann"
        ],
        [
         "mp1973"
        ],
        [
         "sartimo"
        ],
        [
         "VitorsmX"
        ],
        [
         "Schawnnara"
        ],
        [
         "elonmu"
        ],
        [
         "Stevenking666crypto"
        ],
        [
         "Nickonomics"
        ],
        [
         "Wajidmlk"
        ],
        [
         "Noburu-os"
        ],
        [
         "luca-moraes"
        ],
        [
         "GoblinQueen1"
        ],
        [
         "bernguyen"
        ],
        [
         "tamimuddin"
        ],
        [
         "Sonarie"
        ],
        [
         "Codeinnovater"
        ],
        [
         "kmec8788"
        ],
        [
         "Sleepower1"
        ],
        [
         "ArwaBouabdellah"
        ],
        [
         "Shanzixuan"
        ],
        [
         "Enedeza"
        ],
        [
         "AlcROY77"
        ],
        [
         "TrongHieu9999"
        ],
        [
         "advait2088"
        ],
        [
         "perry1015"
        ],
        [
         "schimilouski"
        ],
        [
         "VjckTjm"
        ],
        [
         "VidhyasriR"
        ],
        [
         "waltherwhite68"
        ],
        [
         "Alok774"
        ],
        [
         "HARDCORExHENRY"
        ],
        [
         "witcher619"
        ],
        [
         "Thegreat-maker"
        ],
        [
         "Sachinagrahari"
        ],
        [
         "BusterSR"
        ],
        [
         "Its-harin-05"
        ],
        [
         "Rakesh-Ananthakumar"
        ],
        [
         "Julianah253"
        ],
        [
         "2631004878"
        ],
        [
         "Godtune"
        ],
        [
         "miesieduoveria209"
        ],
        [
         "Deznyc1222"
        ],
        [
         "Shogzy06"
        ],
        [
         "Carnt01"
        ],
        [
         "XeonRK"
        ],
        [
         "devlynnx"
        ],
        [
         "DevelopWithMohsin"
        ],
        [
         "kiryl92"
        ],
        [
         "git4damre"
        ],
        [
         "joaovgcoelho"
        ],
        [
         "zedchuck"
        ],
        [
         "Dilip060"
        ],
        [
         "KvngGeorge"
        ],
        [
         "LogeshwaranMJ"
        ],
        [
         "joaquimpaulo"
        ],
        [
         "Nnaskeeitz"
        ],
        [
         "chenabyss"
        ],
        [
         "Daddyk1230"
        ],
        [
         "tsimpson97"
        ],
        [
         "Layfix123"
        ],
        [
         "Lorenzo0010N"
        ],
        [
         "Docwimz"
        ],
        [
         "juliomartinns"
        ],
        [
         "DallasLHannah3"
        ],
        [
         "azmsnamdsy"
        ],
        [
         "yluccaz27"
        ],
        [
         "AIDA-2456"
        ],
        [
         "Muryenoel"
        ]
       ],
       "datasetInfos": [],
       "dbfsResultPath": null,
       "isJsonSchema": true,
       "metadata": {},
       "overflow": false,
       "plotOptions": {
        "customPlotOptions": {},
        "displayType": "table",
        "pivotAggregation": null,
        "pivotColumns": null,
        "xColumns": null,
        "yColumns": null
       },
       "removedWidgets": [],
       "schema": [
        {
         "metadata": "{}",
         "name": "login",
         "type": "\"string\""
        }
       ],
       "type": "table"
      }
     },
     "output_type": "display_data"
    }
   ],
   "source": [
    "followers_df.display()"
   ]
  },
  {
   "cell_type": "code",
   "execution_count": null,
   "metadata": {
    "application/vnd.databricks.v1+cell": {
     "cellMetadata": {
      "byteLimit": 2048000,
      "rowLimit": 10000
     },
     "inputWidgets": {},
     "nuid": "56c33a3d-e199-48a0-a599-ed199483250d",
     "showTitle": false,
     "title": ""
    }
   },
   "outputs": [],
   "source": [
    "\n",
    "def get_github_user_info(login):\n",
    "    url = f\"https://api.github.com/users/{login}\"\n",
    "    headers = {'Authorization': f'token {token}'}\n",
    "    response = requests.get(url, headers=headers)\n",
    "    if response.status_code == 200:\n",
    "        user_info = response.json()\n",
    "        return (\n",
    "            user_info.get('name'),\n",
    "            user_info.get('company'),\n",
    "            user_info.get('blog'),\n",
    "            user_info.get('email'),\n",
    "            user_info.get('bio'),\n",
    "            user_info.get('public_repos'),\n",
    "            user_info.get('followers'),\n",
    "            user_info.get('following'),\n",
    "            user_info.get('created_at')\n",
    "        )\n",
    "    else:\n",
    "        return (None, None, None, None, None, None, None, None, None)\n",
    "    \n",
    "get_github_user_info_udf = udf(get_github_user_info, StructType([\n",
    "    StructField(\"name\", StringType(), True),\n",
    "    StructField(\"company\", StringType(), True),\n",
    "    StructField(\"blog\", StringType(), True),\n",
    "    StructField(\"email\", StringType(), True),\n",
    "    StructField(\"bio\", StringType(), True),\n",
    "    StructField(\"public_repos\", IntegerType(), True),\n",
    "    StructField(\"followers\", IntegerType(), True),\n",
    "    StructField(\"following\", IntegerType(), True),\n",
    "    StructField(\"created_at\", StringType(), True)\n",
    "]))"
   ]
  },
  {
   "cell_type": "code",
   "execution_count": null,
   "metadata": {
    "application/vnd.databricks.v1+cell": {
     "cellMetadata": {
      "byteLimit": 2048000,
      "rowLimit": 10000
     },
     "inputWidgets": {},
     "nuid": "d1c28027-f930-4865-8235-60c260d9f390",
     "showTitle": false,
     "title": ""
    }
   },
   "outputs": [],
   "source": [
    "df_with_github_info = followers_df.withColumn(\"github_info\", get_github_user_info_udf(followers_df['login']))"
   ]
  },
  {
   "cell_type": "code",
   "execution_count": null,
   "metadata": {
    "application/vnd.databricks.v1+cell": {
     "cellMetadata": {
      "byteLimit": 2048000,
      "rowLimit": 10000
     },
     "inputWidgets": {},
     "nuid": "122c826e-fcdc-4e5c-8613-2a9efce8f926",
     "showTitle": false,
     "title": ""
    }
   },
   "outputs": [],
   "source": [
    "df_with_github_info = df_with_github_info.select(\n",
    "    df_with_github_info[\"login\"],\n",
    "    df_with_github_info.github_info.getItem(\"name\").alias(\"name\"),\n",
    "    df_with_github_info.github_info.getItem(\"company\").alias(\"company\"),\n",
    "    df_with_github_info.github_info.getItem(\"blog\").alias(\"blog\"),\n",
    "    df_with_github_info.github_info.getItem(\"email\").alias(\"email\"),\n",
    "    df_with_github_info.github_info.getItem(\"bio\").alias(\"bio\"),\n",
    "    df_with_github_info.github_info.getItem(\"public_repos\").alias(\"public_repos\"),\n",
    "    df_with_github_info.github_info.getItem(\"followers\").alias(\"followers\"),\n",
    "    df_with_github_info.github_info.getItem(\"following\").alias(\"following\"),\n",
    "    df_with_github_info.github_info.getItem(\"created_at\").alias(\"created_at\")\n",
    ")\n"
   ]
  },
  {
   "cell_type": "markdown",
   "metadata": {
    "application/vnd.databricks.v1+cell": {
     "cellMetadata": {
      "byteLimit": 2048000,
      "rowLimit": 10000
     },
     "inputWidgets": {},
     "nuid": "8e2ba2a8-a415-477e-bbd9-beeb7c295cfe",
     "showTitle": false,
     "title": ""
    }
   },
   "source": [
    "## Tratamentos"
   ]
  },
  {
   "cell_type": "code",
   "execution_count": null,
   "metadata": {
    "application/vnd.databricks.v1+cell": {
     "cellMetadata": {
      "byteLimit": 2048000,
      "rowLimit": 10000
     },
     "inputWidgets": {},
     "nuid": "b08ce415-d907-4088-b3cb-bc23f986ea10",
     "showTitle": false,
     "title": ""
    }
   },
   "outputs": [],
   "source": [
    "df_with_github_info = (\n",
    "    df_with_github_info.withColumns(\n",
    "        {\n",
    "        \"company\": regexp_replace(\"company\",\"@\",\"\"),\n",
    "        \"created_at\":date_format(to_date(\"created_at\"),\"dd/MM/yyyy\"),\n",
    "\n",
    "        })\n",
    "    )"
   ]
  },
  {
   "cell_type": "markdown",
   "metadata": {
    "application/vnd.databricks.v1+cell": {
     "cellMetadata": {
      "byteLimit": 2048000,
      "rowLimit": 10000
     },
     "inputWidgets": {},
     "nuid": "c619c59e-fa61-44e2-95e6-196eb7b552a4",
     "showTitle": false,
     "title": ""
    }
   },
   "source": [
    "## Carga dos dados"
   ]
  },
  {
   "cell_type": "code",
   "execution_count": null,
   "metadata": {
    "application/vnd.databricks.v1+cell": {
     "cellMetadata": {
      "byteLimit": 2048000,
      "rowLimit": 10000
     },
     "inputWidgets": {},
     "nuid": "7dfa20c0-f79f-47ba-a1f3-81d0385e13d7",
     "showTitle": false,
     "title": ""
    }
   },
   "outputs": [],
   "source": [
    "df_with_github_info.write.csv(path, header=True, mode=\"overwrite\")"
   ]
  },
  {
   "cell_type": "markdown",
   "metadata": {
    "application/vnd.databricks.v1+cell": {
     "cellMetadata": {
      "byteLimit": 2048000,
      "rowLimit": 10000
     },
     "inputWidgets": {},
     "nuid": "35cd3953-50b3-48aa-b33d-1a9b4c87d431",
     "showTitle": false,
     "title": ""
    }
   },
   "source": [
    "## Testes"
   ]
  },
  {
   "cell_type": "markdown",
   "metadata": {
    "application/vnd.databricks.v1+cell": {
     "cellMetadata": {
      "byteLimit": 2048000,
      "rowLimit": 10000
     },
     "inputWidgets": {},
     "nuid": "bc4392e9-3b06-4ebe-af5f-2f892d67ccf6",
     "showTitle": false,
     "title": ""
    }
   },
   "source": [
    "### Tratamento de remoção do @ da coluna company"
   ]
  },
  {
   "cell_type": "code",
   "execution_count": null,
   "metadata": {
    "application/vnd.databricks.v1+cell": {
     "cellMetadata": {
      "byteLimit": 2048000,
      "rowLimit": 10000
     },
     "inputWidgets": {},
     "nuid": "3bc3168a-8679-4f00-bb29-b20c65df0683",
     "showTitle": false,
     "title": ""
    }
   },
   "outputs": [],
   "source": [
    "df_test = spark.read.format(\"csv\").options(header = True, multiLine=True).load(path)"
   ]
  },
  {
   "cell_type": "code",
   "execution_count": null,
   "metadata": {
    "application/vnd.databricks.v1+cell": {
     "cellMetadata": {
      "byteLimit": 2048000,
      "rowLimit": 10000
     },
     "inputWidgets": {},
     "nuid": "ded719de-cd51-4624-8fc9-d262013312d2",
     "showTitle": false,
     "title": ""
    }
   },
   "outputs": [
    {
     "name": "stdout",
     "output_type": "stream",
     "text": [
      "Não existe '@' na coluna 'company'.\n"
     ]
    }
   ],
   "source": [
    "if df_test.filter(col(\"company\").like(\"%@%\")).count() > 0:\n",
    "    print(\"Existe pelo menos um '@' na coluna 'company'.\")\n",
    "else:\n",
    "    print(\"Não existe '@' na coluna 'company'.\")"
   ]
  },
  {
   "cell_type": "markdown",
   "metadata": {
    "application/vnd.databricks.v1+cell": {
     "cellMetadata": {
      "byteLimit": 2048000,
      "rowLimit": 10000
     },
     "inputWidgets": {},
     "nuid": "87c4ad0c-bbac-4326-abaf-ffc8a351fb02",
     "showTitle": false,
     "title": ""
    }
   },
   "source": [
    "### Verificação se a coluna created_at está no formato dd/mm/yyyy"
   ]
  },
  {
   "cell_type": "code",
   "execution_count": null,
   "metadata": {
    "application/vnd.databricks.v1+cell": {
     "cellMetadata": {
      "byteLimit": 2048000,
      "rowLimit": 10000
     },
     "inputWidgets": {},
     "nuid": "76c84027-472c-4d88-8741-0308fce117fb",
     "showTitle": false,
     "title": ""
    }
   },
   "outputs": [
    {
     "name": "stdout",
     "output_type": "stream",
     "text": [
      "A coluna 'created_at' está com as datas no formato dd/mm/yyyy.\n"
     ]
    }
   ],
   "source": [
    "pattern = r'^\\d{2}/\\d{2}/\\d{4}$'\n",
    "if df_test.filter(regexp_extract(col(\"created_at\"), pattern, 0) != \"\").count() == df_test.count():\n",
    "    print(\"A coluna 'created_at' está com as datas no formato dd/mm/yyyy.\")\n",
    "else:\n",
    "    print(\"A coluna 'created_at' não está com todas as datas no formato dd/mm/yyyy.\")"
   ]
  }
 ],
 "metadata": {
  "application/vnd.databricks.v1+notebook": {
   "dashboards": [],
   "environmentMetadata": null,
   "language": "python",
   "notebookMetadata": {
    "pythonIndentUnit": 4
   },
   "notebookName": "Ifood - People Analytics",
   "widgets": {}
  },
  "language_info": {
   "name": "python"
  }
 },
 "nbformat": 4,
 "nbformat_minor": 0
}
